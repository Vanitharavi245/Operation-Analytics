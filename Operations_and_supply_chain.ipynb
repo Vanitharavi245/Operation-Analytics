{
  "cells": [
    {
      "cell_type": "markdown",
      "id": "0bf06df4",
      "metadata": {
        "id": "0bf06df4"
      },
      "source": [
        "# Activity 1:\n",
        "Dynamic Systems-Production Scheduling, Demand Forecasting,Inventory replenishment,Order Processing,\n",
        "Non Dynamic Systems-Fixed Routing,Routing Maintainance,Set lead times,Non Adjustable pricing,Regular staff schedules,Static inventory control\n"
      ]
    },
    {
      "cell_type": "markdown",
      "id": "0a95e96a",
      "metadata": {
        "id": "0a95e96a"
      },
      "source": [
        "# Activity 2:"
      ]
    },
    {
      "cell_type": "code",
      "execution_count": null,
      "id": "1e656e1e",
      "metadata": {
        "id": "1e656e1e",
        "outputId": "7f422f12-3bf0-48df-d29f-b9ab051cfb27"
      },
      "outputs": [
        {
          "data": {
            "text/plain": [
              "{'Supplier selection': 1,\n",
              " 'Contract Negotiation': 3,\n",
              " 'Raw Material Procurement': 2,\n",
              " 'Production Planning': 3,\n",
              " ' Manufacturing': 7,\n",
              " 'Quality Assurance': 3,\n",
              " 'Packaging': 2,\n",
              " 'Order Fulfillment': 2,\n",
              " 'Shipping': 3,\n",
              " 'Post sales support': 2,\n",
              " 'Returns Management': 2}"
            ]
          },
          "execution_count": 3,
          "metadata": {},
          "output_type": "execute_result"
        }
      ],
      "source": [
        "data={\"Supplier selection\":1, \"Contract Negotiation\":3, \"Raw Material Procurement\":2, \"Production Planning\":3,\" Manufacturing\":7,\"Quality Assurance\":3, \"Packaging\":2, \"Order Fulfillment\":2,\"Shipping\":3, \"Post sales support\":2,\"Returns Management\":2}\n",
        "data"
      ]
    },
    {
      "cell_type": "markdown",
      "id": "fdbd8777",
      "metadata": {
        "id": "fdbd8777"
      },
      "source": [
        "# Activity 3:"
      ]
    },
    {
      "cell_type": "code",
      "execution_count": null,
      "id": "d3cee231",
      "metadata": {
        "id": "d3cee231",
        "outputId": "3f45e985-3e05-4ba7-d104-bfc1432a1fcd"
      },
      "outputs": [
        {
          "data": {
            "text/plain": [
              "{'Supplier selection': 1,\n",
              " 'Contract Negotiation': 3,\n",
              " 'Raw Material Procurement': 2,\n",
              " 'Production Planning': 3,\n",
              " ' Manufacturing': 7,\n",
              " 'Quality Assurance': 3,\n",
              " 'Packaging': 2,\n",
              " 'Order Fulfillment': 2,\n",
              " 'Shipping': 3,\n",
              " 'Post sales support': 2,\n",
              " 'Returns Management': 2,\n",
              " 'Demand Forecasting': 2}"
            ]
          },
          "execution_count": 4,
          "metadata": {},
          "output_type": "execute_result"
        }
      ],
      "source": [
        "data[\"Demand Forecasting\"]=2\n",
        "data"
      ]
    },
    {
      "cell_type": "markdown",
      "id": "28815bfd",
      "metadata": {
        "id": "28815bfd"
      },
      "source": [
        "# Activity 4:"
      ]
    },
    {
      "cell_type": "markdown",
      "id": "9a2d04c3",
      "metadata": {
        "id": "9a2d04c3"
      },
      "source": [
        "Write a Python program to simulate inventory management for a small warehouse. The program will track the inventory levels of a single product and update the inventory based on incoming shipments and outgoing orders.\n",
        "\n",
        "Instructions:\n",
        "\n",
        "Initialize the inventory level to 100 units.\n",
        "Use a while loop to continuously prompt the user for input until they choose to exit.\n",
        "The user can input:\n",
        "“purchase” to simulate an incoming shipment (increase inventory by a specified amount).\n",
        "“dispatch\" to simulate an outgoing order (decrease inventory by a specified amount).\n",
        "“exit” to end the simulation.\n",
        "Ensure the inventory level does not drop below zero.\n",
        "Display the current inventory level after each operation."
      ]
    },
    {
      "cell_type": "code",
      "execution_count": null,
      "id": "3600d0f1",
      "metadata": {
        "id": "3600d0f1",
        "outputId": "b0010fd3-e138-4b1d-d8b6-e6de8c9d34cf"
      },
      "outputs": [
        {
          "name": "stdout",
          "output_type": "stream",
          "text": [
            "Enter 'purchase' for incoming shipment, 'dispatch' for outgoing order, or 'exit' to end: purchase\n",
            "Enter the amount to add to inventory: 50\n",
            "Inventory increased by 50. Current inventory: 150\n",
            "Enter 'purchase' for incoming shipment, 'dispatch' for outgoing order, or 'exit' to end: exit\n",
            "Exiting the simulation.\n"
          ]
        }
      ],
      "source": [
        "# Initialize inventory level\n",
        "inventory = 100\n",
        "\n",
        "while True:\n",
        "    # Prompt user for input\n",
        "    action = input(\"Enter 'purchase' for incoming shipment, 'dispatch' for outgoing order, or 'exit' to end: \").lower()\n",
        "\n",
        "    if action == \"purchase\":\n",
        "        amount = int(input(\"Enter the amount to add to inventory: \"))\n",
        "        inventory += amount\n",
        "        print(f\"Inventory increased by {amount}. Current inventory: {inventory}\")\n",
        "    elif action == \"dispatch\":\n",
        "        amount = int(input(\"Enter the amount to remove from inventory: \"))\n",
        "        if amount <= inventory:\n",
        "            inventory -= amount\n",
        "            print(f\"Inventory decreased by {amount}. Current inventory: {inventory}\")\n",
        "        else:\n",
        "            print(\"Not enough inventory to fulfill the order.\")\n",
        "    elif action == \"exit\":\n",
        "        print(\"Exiting the simulation.\")\n",
        "        break\n",
        "    else:\n",
        "        print(\"Invalid input. Please try again.\")\n"
      ]
    },
    {
      "cell_type": "markdown",
      "id": "c5d7e52e",
      "metadata": {
        "id": "c5d7e52e"
      },
      "source": [
        "# Activity-5"
      ]
    },
    {
      "cell_type": "markdown",
      "id": "c3561846",
      "metadata": {
        "id": "c3561846"
      },
      "source": [
        "Calculate Total Inventory Cost\n",
        "You have a list of products, each with a quantity and a unit cost. Write a for loop to calculate the total inventory cost."
      ]
    },
    {
      "cell_type": "code",
      "execution_count": null,
      "id": "c44b8602",
      "metadata": {
        "id": "c44b8602",
        "outputId": "2972f25b-a829-4319-c6a6-59ce0f290a66"
      },
      "outputs": [
        {
          "name": "stdout",
          "output_type": "stream",
          "text": [
            "Total Inventory Cost: $220.0\n"
          ]
        }
      ],
      "source": [
        "# List of products with their quantities and unit costs\n",
        "products = [\n",
        "    {\"name\": \"Product A\", \"quantity\": 10, \"unit_cost\": 5.0},\n",
        "    {\"name\": \"Product B\", \"quantity\": 20, \"unit_cost\": 3.0},\n",
        "    {\"name\": \"Product C\", \"quantity\": 15, \"unit_cost\": 4.0},\n",
        "    {\"name\": \"Product D\", \"quantity\": 5, \"unit_cost\": 10.0}\n",
        "]\n",
        "\n",
        "# Initialize total cost\n",
        "total_cost = 0\n",
        "\n",
        "# Calculate total inventory cost\n",
        "for product in products:\n",
        "    total_cost += product[\"quantity\"] * product[\"unit_cost\"]\n",
        "\n",
        "print(f\"Total Inventory Cost: ${total_cost}\")\n"
      ]
    },
    {
      "cell_type": "markdown",
      "id": "40019d11",
      "metadata": {
        "id": "40019d11"
      },
      "source": [
        "# Activity 6"
      ]
    },
    {
      "cell_type": "markdown",
      "id": "c430fa1d",
      "metadata": {
        "id": "c430fa1d"
      },
      "source": [
        "You are tasked with developing a simple inventory management system for a retail store. The system should be able to:\n",
        "Track Products: Each product has a name, price, supplier, and quantity in stock.\n",
        "Manage Inventory: The system should allow for purchasing additional stock and selling products, updating the quantity accordingly.\n",
        "Check Stock Levels: The system should provide a way to check the current stock level of any product.\n",
        "\n"
      ]
    },
    {
      "cell_type": "code",
      "execution_count": null,
      "id": "1e500f14",
      "metadata": {
        "id": "1e500f14",
        "outputId": "12597d77-7965-4050-e7f8-0c82aea8a238"
      },
      "outputs": [
        {
          "name": "stdout",
          "output_type": "stream",
          "text": [
            "Laptop - Quantity: 50\n",
            "Purchased 20 units of Laptop. New quantity: 70\n",
            "Sold 10 units of Laptop. Remaining quantity: 60\n",
            "Laptop - Quantity: 60\n",
            "mobile - Quantity: 50\n",
            "Purchased 20 units of mobile. New quantity: 70\n",
            "Not enough mobile in stock to sell 80 units.\n",
            "mobile - Quantity: 70\n",
            "Sold 30 units of mobile. Remaining quantity: 40\n",
            "mobile - Quantity: 40\n"
          ]
        }
      ],
      "source": [
        "class Product:\n",
        "    def __init__(self, name, price, supplier, quantity):\n",
        "        self.name = name\n",
        "        self.price = price\n",
        "        self.supplier = supplier\n",
        "        self.quantity = quantity\n",
        "\n",
        "    def purchase(self, amount):\n",
        "        self.quantity += amount\n",
        "        print(f\"Purchased {amount} units of {self.name}. New quantity: {self.quantity}\")\n",
        "\n",
        "    def sell(self, amount):\n",
        "        if self.quantity >= amount:\n",
        "            self.quantity -= amount\n",
        "            print(f\"Sold {amount} units of {self.name}. Remaining quantity: {self.quantity}\")\n",
        "        else:\n",
        "            print(f\"Not enough {self.name} in stock to sell {amount} units.\")\n",
        "\n",
        "    def check_stock(self):\n",
        "        print(f\"{self.name} - Quantity: {self.quantity}\")\n",
        "\n",
        "# Example usage\n",
        "if __name__ == \"__main__\":\n",
        "    product1 = Product(\"Laptop\", 1000, \"TechSupplier\", 50)\n",
        "    product1.check_stock()\n",
        "    product1.purchase(20)\n",
        "    product1.sell(10)\n",
        "    product1.check_stock()\n",
        "    product2 = Product(\"mobile\", 1000, \"mobileworld\", 50)\n",
        "    product2.check_stock()\n",
        "    product2.purchase(20)\n",
        "    product2.sell(80)\n",
        "    product2.check_stock()\n",
        "    product2.sell(30)\n",
        "    product2.check_stock()\n"
      ]
    },
    {
      "cell_type": "markdown",
      "id": "9b0c3182",
      "metadata": {
        "id": "9b0c3182"
      },
      "source": [
        "# Activity-7\n"
      ]
    },
    {
      "cell_type": "markdown",
      "id": "5e2600bc",
      "metadata": {
        "id": "5e2600bc"
      },
      "source": [
        "You are tasked with simulating a discrete event model for a supply chain management workflow.\n",
        "\n",
        "This consists of several processes, each with a specific duration.\n",
        "\n",
        "The goal is to simulate the entire supply chain process repeatedly until a given simulation time is reached.\n"
      ]
    },
    {
      "cell_type": "code",
      "execution_count": null,
      "id": "a2c32783",
      "metadata": {
        "id": "a2c32783",
        "outputId": "027d0636-42c7-476a-c32e-27b0849ea669"
      },
      "outputs": [
        {
          "name": "stdout",
          "output_type": "stream",
          "text": [
            "raw material purchasing (completed): time = 2\n",
            "manufacturing (completed): time = 7\n",
            "packaging (completed): time = 9\n",
            "shipping (completed): time = 10\n",
            "COMPLETED: Production cycle #1 | Time = 10 days\n",
            "raw material purchasing (completed): time = 12\n",
            "manufacturing (completed): time = 17\n",
            "packaging (completed): time = 19\n",
            "shipping (completed): time = 20\n",
            "COMPLETED: Production cycle #2 | Time = 20 days\n",
            "raw material purchasing (completed): time = 22\n",
            "manufacturing (completed): time = 27\n",
            "packaging (completed): time = 29\n",
            "shipping (completed): time = 30\n",
            "COMPLETED: Production cycle #3 | Time = 30 days\n",
            "raw material purchasing (completed): time = 32\n",
            "manufacturing (completed): time = 37\n",
            "packaging (completed): time = 39\n",
            "shipping (completed): time = 40\n",
            "COMPLETED: Production cycle #4 | Time = 40 days\n"
          ]
        }
      ],
      "source": [
        "def discrete_model_farm(process_dict, simulation_time):\n",
        "    time = 0\n",
        "    supply_chain = 0\n",
        "\n",
        "    while time < simulation_time:\n",
        "        supply_chain += 1\n",
        "        process_names = list(process_dict.keys())\n",
        "\n",
        "        for p in range(len(process_names)):\n",
        "            event_duration = process_dict[process_names[p]]\n",
        "            time += event_duration\n",
        "            print(f\"{process_names[p]} (completed): time = {time}\")\n",
        "\n",
        "        print(f\"COMPLETED: Production cycle #{supply_chain} | Time = {time} days\")\n",
        "\n",
        "        if time >= simulation_time:\n",
        "            break\n",
        "\n",
        "# Example usage\n",
        "process_dict = {\n",
        "    'raw material purchasing': 2,\n",
        "    'manufacturing': 5,\n",
        "    'packaging': 2,\n",
        "    'shipping': 1\n",
        "}\n",
        "simulation_time = 32\n",
        "\n",
        "discrete_model_farm(process_dict, simulation_time)\n"
      ]
    },
    {
      "cell_type": "code",
      "execution_count": null,
      "id": "f2702f6e",
      "metadata": {
        "id": "f2702f6e",
        "outputId": "c931698a-8329-4966-97c3-98add30a8ca3"
      },
      "outputs": [
        {
          "name": "stdout",
          "output_type": "stream",
          "text": [
            "['raw material purchasing', 'manufacturing', 'packaging', 'shipping']\n",
            "0\n",
            "2\n",
            "1\n",
            "5\n",
            "2\n",
            "2\n",
            "3\n",
            "1\n"
          ]
        }
      ],
      "source": [
        "process_dict = {\n",
        "    'raw material purchasing': 2,\n",
        "    'manufacturing': 5,\n",
        "    'packaging': 2,\n",
        "    'shipping': 1\n",
        "}\n",
        "process_names = list(process_dict.keys())\n",
        "print(process_names)\n",
        "for p in range(len(process_names)):\n",
        "    print(p)\n",
        "    event_duration = process_dict[process_names[p]]\n",
        "    #print(process_names)\n",
        "    print(event_duration)"
      ]
    },
    {
      "cell_type": "code",
      "execution_count": null,
      "id": "0d0e4882",
      "metadata": {
        "id": "0d0e4882",
        "outputId": "5cc58bd9-e1e1-400b-901a-c06654e8bb53"
      },
      "outputs": [
        {
          "name": "stdout",
          "output_type": "stream",
          "text": [
            "Start of process at 0\n",
            "End of process at 2\n",
            "Start of process at 2\n",
            "End of process at 4\n",
            "Start of process at 4\n"
          ]
        }
      ],
      "source": [
        "import simpy\n",
        "def basic_process(env):\n",
        "    while True:\n",
        "        print(f\"Start of process at {env.now}\")\n",
        "        yield env.timeout(2)  # Wait for 2 time unit\n",
        "        print(f\"End of process at {env.now}\")\n",
        "\n",
        "# Create a simulation environment\n",
        "env = simpy.Environment()\n",
        "\n",
        "# Start the process\n",
        "env.process(basic_process(env))\n",
        "\n",
        "# Run the simulation for 5 time units\n",
        "env.run(until=5)\n"
      ]
    },
    {
      "cell_type": "code",
      "execution_count": null,
      "id": "618df7c7",
      "metadata": {
        "id": "618df7c7",
        "outputId": "6e173e23-57c2-4edc-d018-bc10112b3bb5"
      },
      "outputs": [
        {
          "name": "stdout",
          "output_type": "stream",
          "text": [
            "Start loading at 0\n",
            "Start transporting at 5\n",
            "Start unloading at 15\n",
            "Start loading at 18\n",
            "Start transporting at 23\n"
          ]
        }
      ],
      "source": [
        "import simpy\n",
        "\n",
        "class Truck(object):\n",
        "    def __init__(self, env):\n",
        "        self.env = env\n",
        "        # Start the run process every time an instance is created.\n",
        "        self.action = env.process(self.run())\n",
        "\n",
        "    def run(self):\n",
        "        while True:\n",
        "            print('Start loading at %d' % self.env.now)\n",
        "            load_duration = 5\n",
        "            # We yield the process that process() returns to wait for it to finish\n",
        "            yield self.env.process(self.load(load_duration))\n",
        "            # The load process has finished and we can start transporting goods.\n",
        "            print('Start transporting at %d' % self.env.now)\n",
        "            transport_duration = 10\n",
        "            yield self.env.timeout(transport_duration)\n",
        "            # Transporting finished, start unloading\n",
        "            print('Start unloading at %d' % self.env.now)\n",
        "            unload_duration = 3\n",
        "            yield self.env.process(self.unload(unload_duration))\n",
        "\n",
        "    def load(self, duration):\n",
        "        yield self.env.timeout(duration)\n",
        "\n",
        "    def unload(self, duration):\n",
        "        yield self.env.timeout(duration)\n",
        "\n",
        "env = simpy.Environment()\n",
        "truck = Truck(env)\n",
        "env.run(until=30)\n"
      ]
    },
    {
      "cell_type": "markdown",
      "id": "ee63c139",
      "metadata": {
        "id": "ee63c139"
      },
      "source": [
        "# Activity 8"
      ]
    },
    {
      "cell_type": "markdown",
      "id": "bce6e8fb",
      "metadata": {
        "id": "bce6e8fb"
      },
      "source": [
        "You are tasked with developing an inventory management simulation using the SimPy library.\n",
        "The goal is to simulate the inventory levels of a product over a specified number of days, considering daily usage and restocking when inventory falls below a certain level.\n",
        "Given the following constants:\n",
        "REORDER_LEVEL = 10\n",
        "ORDER_AMOUNT = 50\n",
        "LEAD_TIME = 2\n",
        "SIMULATION_DAYS = 5\n",
        "An initial stock of 20 units, the simulation should prompt the user to enter daily usage for 5 days and simulate the inventory levels accordingly.\n",
        "\n"
      ]
    },
    {
      "cell_type": "code",
      "execution_count": null,
      "id": "67d54acd",
      "metadata": {
        "id": "67d54acd",
        "outputId": "d248f724-9496-4f4e-c296-f30a451946e1"
      },
      "outputs": [
        {
          "name": "stdout",
          "output_type": "stream",
          "text": [
            "Please enter daily usage for 5 days:\n",
            "Day 0: 2\n",
            "Day 1: 4\n",
            "Day 2: 30\n",
            "Day 3: 2\n",
            "Day 4: 5\n",
            "Day 0: Daily usage is 2. Stock level is 18\n",
            "Day 1: Daily usage is 4. Stock level is 14\n",
            "Day 2: Daily usage is 30. Stock level is -16\n",
            "Day 2: Stock is low (-16). Placing order.\n",
            "Day 3: Daily usage is 2. Stock level is -18\n",
            "Day 3: Stock is low (-18). Placing order.\n",
            "Day 4: Order arrived. Stock level is 32\n",
            "Day 4: Daily usage is 5. Stock level is 27\n"
          ]
        }
      ],
      "source": [
        "import simpy\n",
        "# Constants\n",
        "REORDER_LEVEL = 10\n",
        "ORDER_AMOUNT = 50\n",
        "LEAD_TIME = 2\n",
        "SIMULATION_DAYS = 5\n",
        "\n",
        "def inventory_system(env, initial_stock, daily_usage_list):\n",
        "    global stock\n",
        "    stock = initial_stock\n",
        "    day = 0\n",
        "    while day < SIMULATION_DAYS:\n",
        "        if day < len(daily_usage_list):\n",
        "            daily_usage = daily_usage_list[day]\n",
        "        else:\n",
        "            daily_usage = 0  # Default to 0 if no usage data is provided for this day\n",
        "        stock -= daily_usage\n",
        "        print(f'Day {env.now}: Daily usage is {daily_usage}. Stock level is {stock}')\n",
        "\n",
        "        if stock < REORDER_LEVEL:\n",
        "            print(f'Day {env.now}: Stock is low ({stock}). Placing order.')\n",
        "            env.process(place_order(env))\n",
        "        day += 1\n",
        "        yield env.timeout(1)\n",
        "\n",
        "def place_order(env):\n",
        "    yield env.timeout(LEAD_TIME)\n",
        "    global stock\n",
        "    stock += ORDER_AMOUNT\n",
        "    print(f'Day {env.now}: Order arrived. Stock level is {stock}')\n",
        "\n",
        "def get_daily_usage():\n",
        "    daily_usage_list = []\n",
        "    print(f'Please enter daily usage for {SIMULATION_DAYS} days:')\n",
        "    for day in range(SIMULATION_DAYS):\n",
        "        while True:\n",
        "            try:\n",
        "                usage = int(input(f'Day {day}: '))\n",
        "                if usage < 0:\n",
        "                    raise ValueError(\"Usage must be non-negative.\")\n",
        "                daily_usage_list.append(usage)\n",
        "                break\n",
        "            except ValueError as e:\n",
        "                print(e)\n",
        "                print(\"Please enter a valid non-negative integer.\")\n",
        "    return daily_usage_list\n",
        "\n",
        "# Initialize simulation\n",
        "env = simpy.Environment()\n",
        "initial_stock = 20\n",
        "daily_usage_list = get_daily_usage()\n",
        "env.process(inventory_system(env, initial_stock, daily_usage_list))\n",
        "\n",
        "# Run simulation\n",
        "env.run(until=SIMULATION_DAYS)\n"
      ]
    },
    {
      "cell_type": "markdown",
      "id": "6a5f0faf",
      "metadata": {
        "id": "6a5f0faf"
      },
      "source": [
        "# Monte Carlo Simulation"
      ]
    },
    {
      "cell_type": "markdown",
      "id": "25200fac",
      "metadata": {
        "id": "25200fac"
      },
      "source": [
        "You are tasked with predicting the number of orders that will be placed in a future period based on historical data. The historical data consists of the number of hours in each period and the corresponding number of orders placed per hour. To achieve this, you will use a Monte Carlo simulation approach."
      ]
    },
    {
      "cell_type": "code",
      "execution_count": null,
      "id": "750ebff2",
      "metadata": {
        "id": "750ebff2",
        "outputId": "c8daa812-cc79-41cd-b536-7f62ae9caf8f"
      },
      "outputs": [
        {
          "name": "stdout",
          "output_type": "stream",
          "text": [
            "Predicted Mean Orders in 5 Hours: 100.95\n",
            "standar deviation of Orders: 2.25\n"
          ]
        },
        {
          "data": {
            "image/png": "[encoded data removed]",
            "text/plain": [
              "<Figure size 640x480 with 1 Axes>"
            ]
          },
          "metadata": {},
          "output_type": "display_data"
        }
      ],
      "source": [
        "import numpy as np\n",
        "\n",
        "# Historical data\n",
        "hours = [4,5,6,7,8,9]  # The number of hours for each period\n",
        "orders_per_hour = [22,13,42,25,36,42]  # Orders placed per hour in each period\n",
        "\n",
        "# Future period to predict\n",
        "future_hours = 5\n",
        "\n",
        "# Number of simulations\n",
        "NUM_SIMULATIONS = 3000\n",
        "\n",
        "def simulate_orders():\n",
        "    # Simulate the orders for each period\n",
        "    total_orders = 0\n",
        "    for i in range(future_hours):\n",
        "        # Determine which period we are in\n",
        "        if i < hours[0]:\n",
        "            orders = np.random.normal(orders_per_hour[0],1)\n",
        "        elif i < hours[0] + hours[1]:\n",
        "            orders =  np.random.normal(orders_per_hour[1],1)\n",
        "        else:\n",
        "            orders = np.random.normal(np.mean(orders_per_hour),1)  # Use the average if beyond known periods\n",
        "        total_orders += orders\n",
        "    return total_orders\n",
        "\n",
        "# Run Monte Carlo simulations\n",
        "results = [simulate_orders() for _ in range(NUM_SIMULATIONS)]\n",
        "\n",
        "# Analyze results\n",
        "mean_orders = np.mean(results)\n",
        "std_orders = np.std(results)\n",
        "\n",
        "print(f\"Predicted Mean Orders in {future_hours} Hours: {mean_orders:.2f}\")\n",
        "print(f\"standar deviation of Orders: {std_orders:.2f}\")\n",
        "\n",
        "# Optionally, visualize the results\n",
        "import matplotlib.pyplot as plt\n",
        "\n",
        "plt.hist(results, bins=10, edgecolor='k')\n",
        "plt.title('Monte Carlo Simulation Results for Future Orders')\n",
        "\n",
        "plt.show()\n",
        "\n"
      ]
    },
    {
      "cell_type": "code",
      "execution_count": null,
      "id": "f433d0ad",
      "metadata": {
        "id": "f433d0ad",
        "outputId": "8a569f22-a574-4ace-aed2-a6634c7cc28b"
      },
      "outputs": [
        {
          "name": "stdout",
          "output_type": "stream",
          "text": [
            "Requirement already satisfied: mesa in c:\\users\\shalinik1\\appdata\\local\\anaconda3\\lib\\site-packages (2.3.2)\n",
            "Requirement already satisfied: click in c:\\users\\shalinik1\\appdata\\local\\anaconda3\\lib\\site-packages (from mesa) (8.0.4)\n",
            "Requirement already satisfied: cookiecutter in c:\\users\\shalinik1\\appdata\\local\\anaconda3\\lib\\site-packages (from mesa) (1.7.3)\n",
            "Requirement already satisfied: matplotlib in c:\\users\\shalinik1\\appdata\\local\\anaconda3\\lib\\site-packages (from mesa) (3.7.2)\n",
            "Requirement already satisfied: mesa-viz-tornado>=0.1.3,~=0.1.0 in c:\\users\\shalinik1\\appdata\\local\\anaconda3\\lib\\site-packages (from mesa) (0.1.3)\n",
            "Requirement already satisfied: networkx in c:\\users\\shalinik1\\appdata\\local\\anaconda3\\lib\\site-packages (from mesa) (3.1)\n",
            "Requirement already satisfied: numpy in c:\\users\\shalinik1\\appdata\\local\\anaconda3\\lib\\site-packages (from mesa) (1.24.4)\n",
            "Requirement already satisfied: pandas in c:\\users\\shalinik1\\appdata\\local\\anaconda3\\lib\\site-packages (from mesa) (1.5.3)\n",
            "Requirement already satisfied: solara in c:\\users\\shalinik1\\appdata\\local\\anaconda3\\lib\\site-packages (from mesa) (1.37.1)\n",
            "Requirement already satisfied: tqdm in c:\\users\\shalinik1\\appdata\\local\\anaconda3\\lib\\site-packages (from mesa) (4.65.0)\n",
            "Requirement already satisfied: tornado in c:\\users\\shalinik1\\appdata\\local\\anaconda3\\lib\\site-packages (from mesa-viz-tornado>=0.1.3,~=0.1.0->mesa) (6.3.2)\n",
            "Requirement already satisfied: colorama in c:\\users\\shalinik1\\appdata\\local\\anaconda3\\lib\\site-packages (from click->mesa) (0.4.6)\n",
            "Requirement already satisfied: binaryornot>=0.4.4 in c:\\users\\shalinik1\\appdata\\local\\anaconda3\\lib\\site-packages (from cookiecutter->mesa) (0.4.4)\n",
            "Requirement already satisfied: Jinja2<4.0.0,>=2.7 in c:\\users\\shalinik1\\appdata\\local\\anaconda3\\lib\\site-packages (from cookiecutter->mesa) (3.1.2)\n",
            "Requirement already satisfied: poyo>=0.5.0 in c:\\users\\shalinik1\\appdata\\local\\anaconda3\\lib\\site-packages (from cookiecutter->mesa) (0.5.0)\n",
            "Requirement already satisfied: jinja2-time>=0.2.0 in c:\\users\\shalinik1\\appdata\\local\\anaconda3\\lib\\site-packages (from cookiecutter->mesa) (0.2.0)\n",
            "Requirement already satisfied: python-slugify>=4.0.0 in c:\\users\\shalinik1\\appdata\\local\\anaconda3\\lib\\site-packages (from cookiecutter->mesa) (5.0.2)\n",
            "Requirement already satisfied: requests>=2.23.0 in c:\\users\\shalinik1\\appdata\\local\\anaconda3\\lib\\site-packages (from cookiecutter->mesa) (2.31.0)\n",
            "Requirement already satisfied: six>=1.10 in c:\\users\\shalinik1\\appdata\\local\\anaconda3\\lib\\site-packages (from cookiecutter->mesa) (1.16.0)\n",
            "Requirement already satisfied: contourpy>=1.0.1 in c:\\users\\shalinik1\\appdata\\local\\anaconda3\\lib\\site-packages (from matplotlib->mesa) (1.0.5)\n",
            "Requirement already satisfied: cycler>=0.10 in c:\\users\\shalinik1\\appdata\\local\\anaconda3\\lib\\site-packages (from matplotlib->mesa) (0.11.0)\n",
            "Requirement already satisfied: fonttools>=4.22.0 in c:\\users\\shalinik1\\appdata\\local\\anaconda3\\lib\\site-packages (from matplotlib->mesa) (4.25.0)\n",
            "Requirement already satisfied: kiwisolver>=1.0.1 in c:\\users\\shalinik1\\appdata\\local\\anaconda3\\lib\\site-packages (from matplotlib->mesa) (1.4.4)\n",
            "Requirement already satisfied: packaging>=20.0 in c:\\users\\shalinik1\\appdata\\local\\anaconda3\\lib\\site-packages (from matplotlib->mesa) (23.1)\n",
            "Requirement already satisfied: pillow>=6.2.0 in c:\\users\\shalinik1\\appdata\\local\\anaconda3\\lib\\site-packages (from matplotlib->mesa) (9.4.0)\n",
            "Requirement already satisfied: pyparsing<3.1,>=2.3.1 in c:\\users\\shalinik1\\appdata\\local\\anaconda3\\lib\\site-packages (from matplotlib->mesa) (3.0.9)\n",
            "Requirement already satisfied: python-dateutil>=2.7 in c:\\users\\shalinik1\\appdata\\local\\anaconda3\\lib\\site-packages (from matplotlib->mesa) (2.8.2)\n",
            "Requirement already satisfied: pytz>=2020.1 in c:\\users\\shalinik1\\appdata\\local\\anaconda3\\lib\\site-packages (from pandas->mesa) (2023.3.post1)\n",
            "Requirement already satisfied: solara-server[dev,starlette]==1.37.1 in c:\\users\\shalinik1\\appdata\\local\\anaconda3\\lib\\site-packages (from solara->mesa) (1.37.1)\n",
            "Requirement already satisfied: solara-ui[all]==1.37.1 in c:\\users\\shalinik1\\appdata\\local\\anaconda3\\lib\\site-packages (from solara->mesa) (1.37.1)\n",
            "Requirement already satisfied: filelock in c:\\users\\shalinik1\\appdata\\local\\anaconda3\\lib\\site-packages (from solara-server[dev,starlette]==1.37.1->solara->mesa) (3.9.0)\n",
            "Requirement already satisfied: ipykernel in c:\\users\\shalinik1\\appdata\\local\\anaconda3\\lib\\site-packages (from solara-server[dev,starlette]==1.37.1->solara->mesa) (6.25.0)\n",
            "Requirement already satisfied: jupyter-client>=7.0.0 in c:\\users\\shalinik1\\appdata\\local\\anaconda3\\lib\\site-packages (from solara-server[dev,starlette]==1.37.1->solara->mesa) (7.4.9)\n",
            "Requirement already satisfied: nbformat in c:\\users\\shalinik1\\appdata\\local\\anaconda3\\lib\\site-packages (from solara-server[dev,starlette]==1.37.1->solara->mesa) (5.9.2)\n",
            "Requirement already satisfied: rich-click in c:\\users\\shalinik1\\appdata\\local\\anaconda3\\lib\\site-packages (from solara-server[dev,starlette]==1.37.1->solara->mesa) (1.8.3)\n",
            "Requirement already satisfied: watchdog in c:\\users\\shalinik1\\appdata\\local\\anaconda3\\lib\\site-packages (from solara-server[dev,starlette]==1.37.1->solara->mesa) (2.1.6)\n",
            "Requirement already satisfied: watchfiles in c:\\users\\shalinik1\\appdata\\local\\anaconda3\\lib\\site-packages (from solara-server[dev,starlette]==1.37.1->solara->mesa) (0.22.0)\n",
            "Requirement already satisfied: starlette in c:\\users\\shalinik1\\appdata\\local\\anaconda3\\lib\\site-packages (from solara-server[dev,starlette]==1.37.1->solara->mesa) (0.38.2)\n",
            "Requirement already satisfied: uvicorn in c:\\users\\shalinik1\\appdata\\local\\anaconda3\\lib\\site-packages (from solara-server[dev,starlette]==1.37.1->solara->mesa) (0.30.5)\n",
            "Requirement already satisfied: websockets in c:\\users\\shalinik1\\appdata\\local\\anaconda3\\lib\\site-packages (from solara-server[dev,starlette]==1.37.1->solara->mesa) (12.0)\n",
            "Requirement already satisfied: humanize in c:\\users\\shalinik1\\appdata\\local\\anaconda3\\lib\\site-packages (from solara-ui[all]==1.37.1->solara->mesa) (4.10.0)\n",
            "Requirement already satisfied: ipyvue>=1.9.0 in c:\\users\\shalinik1\\appdata\\local\\anaconda3\\lib\\site-packages (from solara-ui[all]==1.37.1->solara->mesa) (1.11.1)\n",
            "Requirement already satisfied: ipyvuetify>=1.6.10 in c:\\users\\shalinik1\\appdata\\local\\anaconda3\\lib\\site-packages (from solara-ui[all]==1.37.1->solara->mesa) (1.10.0)\n",
            "Requirement already satisfied: ipywidgets>=7.7 in c:\\users\\shalinik1\\appdata\\local\\anaconda3\\lib\\site-packages (from solara-ui[all]==1.37.1->solara->mesa) (8.0.4)\n",
            "Requirement already satisfied: reacton>=1.7.1 in c:\\users\\shalinik1\\appdata\\local\\anaconda3\\lib\\site-packages (from solara-ui[all]==1.37.1->solara->mesa) (1.8.3)\n",
            "Requirement already satisfied: chardet>=3.0.2 in c:\\users\\shalinik1\\appdata\\local\\anaconda3\\lib\\site-packages (from binaryornot>=0.4.4->cookiecutter->mesa) (4.0.0)\n",
            "Requirement already satisfied: MarkupSafe>=2.0 in c:\\users\\shalinik1\\appdata\\local\\anaconda3\\lib\\site-packages (from Jinja2<4.0.0,>=2.7->cookiecutter->mesa) (2.1.1)\n",
            "Requirement already satisfied: arrow in c:\\users\\shalinik1\\appdata\\local\\anaconda3\\lib\\site-packages (from jinja2-time>=0.2.0->cookiecutter->mesa) (1.2.3)\n",
            "Requirement already satisfied: text-unidecode>=1.3 in c:\\users\\shalinik1\\appdata\\local\\anaconda3\\lib\\site-packages (from python-slugify>=4.0.0->cookiecutter->mesa) (1.3)\n",
            "Requirement already satisfied: charset-normalizer<4,>=2 in c:\\users\\shalinik1\\appdata\\local\\anaconda3\\lib\\site-packages (from requests>=2.23.0->cookiecutter->mesa) (2.0.4)\n",
            "Requirement already satisfied: idna<4,>=2.5 in c:\\users\\shalinik1\\appdata\\local\\anaconda3\\lib\\site-packages (from requests>=2.23.0->cookiecutter->mesa) (3.4)\n",
            "Requirement already satisfied: urllib3<3,>=1.21.1 in c:\\users\\shalinik1\\appdata\\local\\anaconda3\\lib\\site-packages (from requests>=2.23.0->cookiecutter->mesa) (1.26.16)\n",
            "Requirement already satisfied: certifi>=2017.4.17 in c:\\users\\shalinik1\\appdata\\local\\anaconda3\\lib\\site-packages (from requests>=2.23.0->cookiecutter->mesa) (2024.6.2)\n",
            "Requirement already satisfied: ipython>=6.1.0 in c:\\users\\shalinik1\\appdata\\local\\anaconda3\\lib\\site-packages (from ipywidgets>=7.7->solara-ui[all]==1.37.1->solara->mesa) (8.15.0)\n",
            "Requirement already satisfied: traitlets>=4.3.1 in c:\\users\\shalinik1\\appdata\\local\\anaconda3\\lib\\site-packages (from ipywidgets>=7.7->solara-ui[all]==1.37.1->solara->mesa) (5.7.1)\n",
            "Requirement already satisfied: widgetsnbextension~=4.0 in c:\\users\\shalinik1\\appdata\\local\\anaconda3\\lib\\site-packages (from ipywidgets>=7.7->solara-ui[all]==1.37.1->solara->mesa) (4.0.5)\n",
            "Requirement already satisfied: jupyterlab-widgets~=3.0 in c:\\users\\shalinik1\\appdata\\local\\anaconda3\\lib\\site-packages (from ipywidgets>=7.7->solara-ui[all]==1.37.1->solara->mesa) (3.0.5)\n",
            "Requirement already satisfied: comm>=0.1.1 in c:\\users\\shalinik1\\appdata\\local\\anaconda3\\lib\\site-packages (from ipykernel->solara-server[dev,starlette]==1.37.1->solara->mesa) (0.1.2)\n",
            "Requirement already satisfied: debugpy>=1.6.5 in c:\\users\\shalinik1\\appdata\\local\\anaconda3\\lib\\site-packages (from ipykernel->solara-server[dev,starlette]==1.37.1->solara->mesa) (1.6.7)\n",
            "Requirement already satisfied: jupyter-core!=5.0.*,>=4.12 in c:\\users\\shalinik1\\appdata\\local\\anaconda3\\lib\\site-packages (from ipykernel->solara-server[dev,starlette]==1.37.1->solara->mesa) (5.3.0)\n",
            "Requirement already satisfied: matplotlib-inline>=0.1 in c:\\users\\shalinik1\\appdata\\local\\anaconda3\\lib\\site-packages (from ipykernel->solara-server[dev,starlette]==1.37.1->solara->mesa) (0.1.6)\n",
            "Requirement already satisfied: nest-asyncio in c:\\users\\shalinik1\\appdata\\local\\anaconda3\\lib\\site-packages (from ipykernel->solara-server[dev,starlette]==1.37.1->solara->mesa) (1.5.6)\n",
            "Requirement already satisfied: psutil in c:\\users\\shalinik1\\appdata\\local\\anaconda3\\lib\\site-packages (from ipykernel->solara-server[dev,starlette]==1.37.1->solara->mesa) (5.9.0)\n",
            "Requirement already satisfied: pyzmq>=20 in c:\\users\\shalinik1\\appdata\\local\\anaconda3\\lib\\site-packages (from ipykernel->solara-server[dev,starlette]==1.37.1->solara->mesa) (23.2.0)\n",
            "Requirement already satisfied: entrypoints in c:\\users\\shalinik1\\appdata\\local\\anaconda3\\lib\\site-packages (from jupyter-client>=7.0.0->solara-server[dev,starlette]==1.37.1->solara->mesa) (0.4)\n",
            "Requirement already satisfied: typing-extensions>=4.1.1 in c:\\users\\shalinik1\\appdata\\local\\anaconda3\\lib\\site-packages (from reacton>=1.7.1->solara-ui[all]==1.37.1->solara->mesa) (4.7.1)\n",
            "Requirement already satisfied: fastjsonschema in c:\\users\\shalinik1\\appdata\\local\\anaconda3\\lib\\site-packages (from nbformat->solara-server[dev,starlette]==1.37.1->solara->mesa) (2.16.2)\n",
            "Requirement already satisfied: jsonschema>=2.6 in c:\\users\\shalinik1\\appdata\\local\\anaconda3\\lib\\site-packages (from nbformat->solara-server[dev,starlette]==1.37.1->solara->mesa) (4.17.3)\n",
            "Requirement already satisfied: rich>=10.7 in c:\\users\\shalinik1\\appdata\\local\\anaconda3\\lib\\site-packages (from rich-click->solara-server[dev,starlette]==1.37.1->solara->mesa) (13.7.1)\n",
            "Requirement already satisfied: cachetools in c:\\users\\shalinik1\\appdata\\local\\anaconda3\\lib\\site-packages (from solara-ui[all]==1.37.1->solara->mesa) (5.4.0)\n",
            "Requirement already satisfied: markdown in c:\\users\\shalinik1\\appdata\\local\\anaconda3\\lib\\site-packages (from solara-ui[all]==1.37.1->solara->mesa) (3.6)\n",
            "Requirement already satisfied: pygments in c:\\users\\shalinik1\\appdata\\local\\anaconda3\\lib\\site-packages (from solara-ui[all]==1.37.1->solara->mesa) (2.15.1)\n",
            "Requirement already satisfied: pymdown-extensions in c:\\users\\shalinik1\\appdata\\local\\anaconda3\\lib\\site-packages (from solara-ui[all]==1.37.1->solara->mesa) (10.9)\n",
            "Requirement already satisfied: anyio<5,>=3.4.0 in c:\\users\\shalinik1\\appdata\\local\\anaconda3\\lib\\site-packages (from starlette->solara-server[dev,starlette]==1.37.1->solara->mesa) (3.5.0)\n",
            "Requirement already satisfied: h11>=0.8 in c:\\users\\shalinik1\\appdata\\local\\anaconda3\\lib\\site-packages (from uvicorn->solara-server[dev,starlette]==1.37.1->solara->mesa) (0.14.0)\n",
            "Requirement already satisfied: sniffio>=1.1 in c:\\users\\shalinik1\\appdata\\local\\anaconda3\\lib\\site-packages (from anyio<5,>=3.4.0->starlette->solara-server[dev,starlette]==1.37.1->solara->mesa) (1.2.0)\n",
            "Requirement already satisfied: backcall in c:\\users\\shalinik1\\appdata\\local\\anaconda3\\lib\\site-packages (from ipython>=6.1.0->ipywidgets>=7.7->solara-ui[all]==1.37.1->solara->mesa) (0.2.0)\n",
            "Requirement already satisfied: decorator in c:\\users\\shalinik1\\appdata\\local\\anaconda3\\lib\\site-packages (from ipython>=6.1.0->ipywidgets>=7.7->solara-ui[all]==1.37.1->solara->mesa) (4.4.2)\n",
            "Requirement already satisfied: jedi>=0.16 in c:\\users\\shalinik1\\appdata\\local\\anaconda3\\lib\\site-packages (from ipython>=6.1.0->ipywidgets>=7.7->solara-ui[all]==1.37.1->solara->mesa) (0.18.1)\n",
            "Requirement already satisfied: pickleshare in c:\\users\\shalinik1\\appdata\\local\\anaconda3\\lib\\site-packages (from ipython>=6.1.0->ipywidgets>=7.7->solara-ui[all]==1.37.1->solara->mesa) (0.7.5)\n",
            "Requirement already satisfied: prompt-toolkit!=3.0.37,<3.1.0,>=3.0.30 in c:\\users\\shalinik1\\appdata\\local\\anaconda3\\lib\\site-packages (from ipython>=6.1.0->ipywidgets>=7.7->solara-ui[all]==1.37.1->solara->mesa) (3.0.36)\n",
            "Requirement already satisfied: stack-data in c:\\users\\shalinik1\\appdata\\local\\anaconda3\\lib\\site-packages (from ipython>=6.1.0->ipywidgets>=7.7->solara-ui[all]==1.37.1->solara->mesa) (0.2.0)\n",
            "Requirement already satisfied: attrs>=17.4.0 in c:\\users\\shalinik1\\appdata\\local\\anaconda3\\lib\\site-packages (from jsonschema>=2.6->nbformat->solara-server[dev,starlette]==1.37.1->solara->mesa) (22.1.0)\n",
            "Requirement already satisfied: pyrsistent!=0.17.0,!=0.17.1,!=0.17.2,>=0.14.0 in c:\\users\\shalinik1\\appdata\\local\\anaconda3\\lib\\site-packages (from jsonschema>=2.6->nbformat->solara-server[dev,starlette]==1.37.1->solara->mesa) (0.18.0)\n",
            "Requirement already satisfied: platformdirs>=2.5 in c:\\users\\shalinik1\\appdata\\local\\anaconda3\\lib\\site-packages (from jupyter-core!=5.0.*,>=4.12->ipykernel->solara-server[dev,starlette]==1.37.1->solara->mesa) (3.10.0)\n",
            "Requirement already satisfied: pywin32>=300 in c:\\users\\shalinik1\\appdata\\local\\anaconda3\\lib\\site-packages (from jupyter-core!=5.0.*,>=4.12->ipykernel->solara-server[dev,starlette]==1.37.1->solara->mesa) (305.1)\n",
            "Requirement already satisfied: markdown-it-py>=2.2.0 in c:\\users\\shalinik1\\appdata\\local\\anaconda3\\lib\\site-packages (from rich>=10.7->rich-click->solara-server[dev,starlette]==1.37.1->solara->mesa) (2.2.0)\n",
            "Requirement already satisfied: pyyaml in c:\\users\\shalinik1\\appdata\\local\\anaconda3\\lib\\site-packages (from pymdown-extensions->solara-ui[all]==1.37.1->solara->mesa) (6.0.1)\n",
            "Requirement already satisfied: parso<0.9.0,>=0.8.0 in c:\\users\\shalinik1\\appdata\\local\\anaconda3\\lib\\site-packages (from jedi>=0.16->ipython>=6.1.0->ipywidgets>=7.7->solara-ui[all]==1.37.1->solara->mesa) (0.8.3)\n",
            "Requirement already satisfied: mdurl~=0.1 in c:\\users\\shalinik1\\appdata\\local\\anaconda3\\lib\\site-packages (from markdown-it-py>=2.2.0->rich>=10.7->rich-click->solara-server[dev,starlette]==1.37.1->solara->mesa) (0.1.0)\n",
            "Requirement already satisfied: wcwidth in c:\\users\\shalinik1\\appdata\\local\\anaconda3\\lib\\site-packages (from prompt-toolkit!=3.0.37,<3.1.0,>=3.0.30->ipython>=6.1.0->ipywidgets>=7.7->solara-ui[all]==1.37.1->solara->mesa) (0.2.5)\n",
            "Requirement already satisfied: executing in c:\\users\\shalinik1\\appdata\\local\\anaconda3\\lib\\site-packages (from stack-data->ipython>=6.1.0->ipywidgets>=7.7->solara-ui[all]==1.37.1->solara->mesa) (0.8.3)\n",
            "Requirement already satisfied: asttokens in c:\\users\\shalinik1\\appdata\\local\\anaconda3\\lib\\site-packages (from stack-data->ipython>=6.1.0->ipywidgets>=7.7->solara-ui[all]==1.37.1->solara->mesa) (2.0.5)\n",
            "Requirement already satisfied: pure-eval in c:\\users\\shalinik1\\appdata\\local\\anaconda3\\lib\\site-packages (from stack-data->ipython>=6.1.0->ipywidgets>=7.7->solara-ui[all]==1.37.1->solara->mesa) (0.2.2)\n"
          ]
        }
      ],
      "source": [
        "# First, you need to install the Mesa library if you haven't already\n",
        "!pip install mesa"
      ]
    },
    {
      "cell_type": "markdown",
      "id": "e8b40135",
      "metadata": {
        "id": "e8b40135"
      },
      "source": [
        "mesa: A Python library for agent-based modeling.\n",
        "\n",
        "Agent and Model: Base classes for creating agents and models.\n",
        "\n",
        "RandomActivation: Scheduler that activates agents in random order.\n",
        "\n",
        "MultiGrid: A grid where multiple agents can occupy the same cell.\n",
        "\n",
        "DataCollector: Collects data from the model and agents."
      ]
    },
    {
      "cell_type": "code",
      "execution_count": null,
      "id": "120f01d6",
      "metadata": {
        "id": "120f01d6",
        "outputId": "6b7416cd-add8-408e-ccfd-79d81919f3d2"
      },
      "outputs": [
        {
          "name": "stdout",
          "output_type": "stream",
          "text": [
            "              Inventory\n",
            "Step AgentID           \n",
            "0    0               50\n",
            "     1               50\n",
            "     2               50\n",
            "     3               50\n",
            "     4               50\n",
            "     5               50\n",
            "     6               50\n",
            "     7               50\n",
            "     8               50\n",
            "     9               50\n",
            "1    3               28\n",
            "     1               28\n",
            "     2               28\n",
            "     5               28\n",
            "     4               28\n",
            "     8               28\n",
            "     0               28\n",
            "     7               28\n",
            "     9               28\n",
            "     6               28\n",
            "2    3                6\n",
            "     7                6\n",
            "     4                6\n",
            "     6                6\n",
            "     0                6\n",
            "     1                6\n",
            "     2                6\n",
            "     5                6\n",
            "     8                6\n",
            "     9                6\n",
            "3    2               14\n",
            "     7               14\n",
            "     0               14\n",
            "     6               14\n",
            "     3               14\n"
          ]
        },
        {
          "name": "stderr",
          "output_type": "stream",
          "text": [
            "C:\\Users\\shalinik1\\AppData\\Local\\Temp\\ipykernel_18092\\3972829367.py:9: FutureWarning: The Mesa Model class was not initialized. In the future, you need to explicitly initialize the Model by calling super().__init__() on initialization.\n",
            "  super().__init__(unique_id, model)\n"
          ]
        }
      ],
      "source": [
        "from mesa import Agent, Model\n",
        "from mesa.time import RandomActivation\n",
        "from mesa.space import MultiGrid\n",
        "from mesa.datacollection import DataCollector\n",
        "\n",
        "class SupplyChainAgent(Agent):\n",
        "    \"\"\"An agent representing an entity in the supply chain.\"\"\"\n",
        "    def __init__(self, unique_id, model):\n",
        "        super().__init__(unique_id, model)\n",
        "        self.inventory = 50\n",
        "\n",
        "    def step(self):\n",
        "        # Agent action for each step\n",
        "        if self.inventory < 20:\n",
        "            self.order_stock()\n",
        "        self.inventory -= 22  # Simulate usage or sales\n",
        "\n",
        "    def order_stock(self):\n",
        "        # Simplified ordering logic\n",
        "        self.inventory += 30  # Assume a restock order of 30 units\n",
        "\n",
        "class SupplyChainModel(Model):\n",
        "    \"\"\"A model representing the supply chain.\"\"\"\n",
        "    def __init__(self, N, width, height):\n",
        "        self.num_agents = N\n",
        "        self.grid = MultiGrid(width, height, True)\n",
        "        self.schedule = RandomActivation(self)\n",
        "\n",
        "        # Create agents\n",
        "        for i in range(self.num_agents):\n",
        "            agent = SupplyChainAgent(i, self)\n",
        "            self.schedule.add(agent)\n",
        "\n",
        "            # Add the agent to a random grid cell\n",
        "            x = self.random.randrange(self.grid.width)\n",
        "            y = self.random.randrange(self.grid.height)\n",
        "            self.grid.place_agent(agent, (x, y))\n",
        "\n",
        "        self.datacollector = DataCollector(\n",
        "            agent_reporters={\"Inventory\": \"inventory\"}\n",
        "        )\n",
        "\n",
        "    def step(self):\n",
        "        self.datacollector.collect(self)\n",
        "        self.schedule.step()\n",
        "\n",
        "# Instantiate and run the model\n",
        "model = SupplyChainModel(N=10, width=10, height=10)\n",
        "\n",
        "for i in range(20):\n",
        "    model.step()\n",
        "\n",
        "# Collect and display results\n",
        "data = model.datacollector.get_agent_vars_dataframe()\n",
        "print(data.head(35))\n"
      ]
    },
    {
      "cell_type": "markdown",
      "id": "e047d8d1",
      "metadata": {
        "id": "e047d8d1"
      },
      "source": [
        "# Scenario Analysis"
      ]
    },
    {
      "cell_type": "markdown",
      "id": "8d8f7795",
      "metadata": {
        "id": "8d8f7795"
      },
      "source": [
        "You are tasked with analyzing the impact of different supplier lead times on the average cost incurred due to demand exceeding inventory.\n",
        "\n",
        "The goal is to simulate various scenarios to understand how changes in supplier lead times affect the overall cost."
      ]
    },
    {
      "cell_type": "code",
      "execution_count": null,
      "id": "7102f13c",
      "metadata": {
        "id": "7102f13c",
        "outputId": "ed3f41d4-c024-4e63-932a-aebb7bf84adf"
      },
      "outputs": [
        {
          "name": "stdout",
          "output_type": "stream",
          "text": [
            "Supplier lead time: 1 weeks, Average cost: 0.02858569745085413\n",
            "Supplier lead time: 2 weeks, Average cost: 0.039528180111128734\n",
            "Supplier lead time: 3 weeks, Average cost: 0.1952172010541145\n",
            "Supplier lead time: 4 weeks, Average cost: 0.25593557688963553\n"
          ]
        }
      ],
      "source": [
        "import numpy as np\n",
        "\n",
        "def scenario_analysis(supplier_lead_times, num_simulations):\n",
        "    results = {}\n",
        "    for lead_time in supplier_lead_times:\n",
        "        costs = []\n",
        "        for _ in range(num_simulations):\n",
        "            demand = np.random.normal(100, 20)\n",
        "            inventory = 150\n",
        "            cost = max(0, (demand - inventory) * lead_time)\n",
        "            costs.append(cost)\n",
        "        results[lead_time] = np.mean(costs)\n",
        "    return results\n",
        "\n",
        "lead_times = [1, 2, 3, 4]\n",
        "num_simulations = 1000\n",
        "costs = scenario_analysis(lead_times, num_simulations)\n",
        "\n",
        "for lead_time, cost in costs.items():\n",
        "    print(f'Supplier lead time: {lead_time} weeks, Average cost: {cost}')\n"
      ]
    },
    {
      "cell_type": "markdown",
      "id": "dcbaf59c",
      "metadata": {
        "id": "dcbaf59c"
      },
      "source": [
        "You are tasked with managing the inventory levels of a product over a period of 30 days. The initial inventory is set at 100 units. The product is restocked by 50 units whenever the inventory falls below a threshold of 20 units.\n",
        "\n",
        "You need to simulate the inventory levels under three different demand scenarios:\n",
        "\n",
        "Low Demand: Average daily demand is 2 units.\n",
        "Moderate Demand: Average daily demand is 5 units.\n",
        "High Demand: Average daily demand is 10 units."
      ]
    },
    {
      "cell_type": "code",
      "execution_count": null,
      "id": "2bbdcbef",
      "metadata": {
        "id": "2bbdcbef",
        "outputId": "76ca2661-baec-447c-e9b8-f068a09fbf8d"
      },
      "outputs": [
        {
          "name": "stdout",
          "output_type": "stream",
          "text": [
            "{'Low Demand': [99, 96, 93, 92, 91, 90, 83, 81, 81, 79, 78, 75, 71, 71, 70, 70, 68, 65, 64, 64, 64, 61, 57, 54, 54, 54, 51, 50, 49, 47], 'Moderate Demand': [95, 91, 85, 76, 71, 67, 59, 50, 45, 41, 37, 34, 28, 25, 23, 68, 63, 56, 52, 44, 39, 31, 24, 66, 62, 57, 51, 44, 38, 33], 'High Demand': [88, 73, 66, 56, 45, 37, 27, 21, 60, 48, 41, 32, 69, 62, 56, 49, 41, 31, 25, 62, 55, 43, 32, 69, 55, 47, 34, 22, 59, 48]}\n"
          ]
        },
        {
          "data": {
            "image/png": "[encoded data removed]",
            "text/plain": [
              "<Figure size 1200x600 with 1 Axes>"
            ]
          },
          "metadata": {},
          "output_type": "display_data"
        }
      ],
      "source": [
        "import numpy as np\n",
        "import matplotlib.pyplot as plt\n",
        "\n",
        "# Define parameters\n",
        "initial_inventory = 100\n",
        "restock_amount = 50\n",
        "threshold = 20\n",
        "num_days = 30\n",
        "\n",
        "# Define different demand scenarios\n",
        "scenarios = {\n",
        "    \"Low Demand\": np.random.poisson(2, num_days),\n",
        "    \"Moderate Demand\": np.random.poisson(5, num_days),\n",
        "    \"High Demand\": np.random.poisson(10, num_days)\n",
        "}\n",
        "\n",
        "def simulate_scenario(demand_scenario):\n",
        "    inventory = initial_inventory\n",
        "    inventory_levels = []\n",
        "\n",
        "    for demand in demand_scenario:\n",
        "        inventory -= demand\n",
        "        if inventory < threshold:\n",
        "            inventory += restock_amount\n",
        "        inventory_levels.append(inventory)\n",
        "\n",
        "    return inventory_levels\n",
        "\n",
        "# Run simulations for each scenario\n",
        "results = {scenario: simulate_scenario(demand) for scenario, demand in scenarios.items()}\n",
        "print(results)\n",
        "# Plot the results\n",
        "plt.figure(figsize=(12, 6))\n",
        "for scenario, inventory_levels in results.items():\n",
        "    plt.plot(inventory_levels, label=scenario)\n",
        "\n",
        "plt.title(\"Inventory Levels Under Different Demand Scenarios\")\n",
        "plt.xlabel(\"Day\")\n",
        "plt.ylabel(\"Inventory Level\")\n",
        "plt.legend()\n",
        "plt.grid(True)\n",
        "plt.show()\n"
      ]
    },
    {
      "cell_type": "markdown",
      "id": "432d0aa8",
      "metadata": {
        "id": "432d0aa8"
      },
      "source": [
        "# Warehouse Optimization using Linear Programming"
      ]
    },
    {
      "cell_type": "markdown",
      "id": "0a3ef577",
      "metadata": {
        "id": "0a3ef577"
      },
      "source": [
        "LpMinimize: This is a constant used to specify that the objective of the linear programming problem is to minimize the objective function.\n",
        "\n",
        "LpProblem: This class is used to define a linear programming problem. You can specify the name of the problem and whether you want to minimize or maximize the objective function.\n",
        "\n",
        "LpVariable: This class is used to define decision variables in the linear programming problem. You can set bounds and categories (e.g., continuous, integer, binary) for these variables.\n",
        "\n",
        "lpSum: This function is used to create a linear expression that sums up a list of variables or expressions. It’s commonly used to define the objective function and constraints."
      ]
    },
    {
      "cell_type": "markdown",
      "id": "484683f9",
      "metadata": {
        "id": "484683f9"
      },
      "source": [
        "# MATH"
      ]
    },
    {
      "cell_type": "markdown",
      "id": "5b32e65e",
      "metadata": {
        "id": "5b32e65e"
      },
      "source": [
        "Objective Function:\n",
        "Minimizei∈{A,B,C}∑​distancei​×(xi​+yi​)\n",
        "Subject to:\n",
        "\n",
        "\n",
        "i∈{A,B,C}∑​xi​=80\n",
        "\n",
        "\n",
        "i∈{A,B,C}∑​yi​=10\n",
        "\n",
        "\n",
        "xA​+yA​≤50\n",
        "\n",
        "\n",
        "xB​+yB​≤60\n",
        "\n",
        "\n",
        "xC​+yC​≤70"
      ]
    },
    {
      "cell_type": "markdown",
      "id": "a0be67b2",
      "metadata": {
        "id": "a0be67b2"
      },
      "source": [
        "Optimize the layout of a warehouse by determining the number of Product 1 and Product 2 units to store in each of the three sections (A, B, C) to minimize the total distance traveled from the entrance to these sections. The warehouse has a demand of 80 units for Product 1 and 10 units for Product 2. Each section has a maximum capacity: Section A can hold up to 50 units, Section B up to 60 units, and Section C up to 70 units. The distances from the entrance to each section are 10, 20, and 30 units respectively for Sections A, B, and C.”"
      ]
    },
    {
      "cell_type": "code",
      "execution_count": null,
      "id": "dd785314",
      "metadata": {
        "id": "dd785314",
        "outputId": "6f15739e-6c60-4397-87a1-754da9695a5f"
      },
      "outputs": [
        {
          "name": "stdout",
          "output_type": "stream",
          "text": [
            "Collecting pulp\n",
            "  Obtaining dependency information for pulp from https://files.pythonhosted.org/packages/64/10/704c18b5960b3f9b10efcc859e11881ad90f1e44008e181d2b10cd305a63/PuLP-2.9.0-py3-none-any.whl.metadata\n",
            "  Downloading PuLP-2.9.0-py3-none-any.whl.metadata (5.4 kB)\n",
            "Downloading PuLP-2.9.0-py3-none-any.whl (17.7 MB)\n",
            "   ---------------------------------------- 0.0/17.7 MB ? eta -:--:--\n",
            "   ---------------------------------------- 0.0/17.7 MB 682.7 kB/s eta 0:00:26\n",
            "   ---------------------------------------- 0.1/17.7 MB 660.6 kB/s eta 0:00:27\n",
            "   ---------------------------------------- 0.2/17.7 MB 1.4 MB/s eta 0:00:13\n",
            "    --------------------------------------- 0.4/17.7 MB 2.8 MB/s eta 0:00:07\n",
            "   -- ------------------------------------- 1.0/17.7 MB 4.6 MB/s eta 0:00:04\n",
            "   -- ------------------------------------- 1.2/17.7 MB 4.9 MB/s eta 0:00:04\n",
            "   ----- ---------------------------------- 2.3/17.7 MB 7.6 MB/s eta 0:00:03\n",
            "   ----- ---------------------------------- 2.4/17.7 MB 6.7 MB/s eta 0:00:03\n",
            "   ------- -------------------------------- 3.2/17.7 MB 8.1 MB/s eta 0:00:02\n",
            "   --------- ------------------------------ 4.3/17.7 MB 9.4 MB/s eta 0:00:02\n",
            "   ------------ --------------------------- 5.4/17.7 MB 10.8 MB/s eta 0:00:02\n",
            "   ------------- -------------------------- 6.1/17.7 MB 11.1 MB/s eta 0:00:02\n",
            "   ---------------- ----------------------- 7.2/17.7 MB 12.5 MB/s eta 0:00:01\n",
            "   ------------------ --------------------- 8.3/17.7 MB 13.3 MB/s eta 0:00:01\n",
            "   --------------------- ------------------ 9.6/17.7 MB 13.9 MB/s eta 0:00:01\n",
            "   ----------------------- ---------------- 10.4/17.7 MB 16.8 MB/s eta 0:00:01\n",
            "   -------------------------- ------------- 11.6/17.7 MB 19.8 MB/s eta 0:00:01\n",
            "   ---------------------------- ----------- 12.8/17.7 MB 21.8 MB/s eta 0:00:01\n",
            "   ----------------------------- ---------- 13.2/17.7 MB 21.1 MB/s eta 0:00:01\n",
            "   -------------------------------- ------- 14.2/17.7 MB 20.5 MB/s eta 0:00:01\n",
            "   ----------------------------------- ---- 15.5/17.7 MB 21.1 MB/s eta 0:00:01\n",
            "   ------------------------------------ --- 16.0/17.7 MB 20.5 MB/s eta 0:00:01\n",
            "   ------------------------------------ --- 16.3/17.7 MB 19.9 MB/s eta 0:00:01\n",
            "   -------------------------------------- - 17.1/17.7 MB 19.9 MB/s eta 0:00:01\n",
            "   ---------------------------------------  17.7/17.7 MB 19.2 MB/s eta 0:00:01\n",
            "   ---------------------------------------- 17.7/17.7 MB 17.2 MB/s eta 0:00:00\n",
            "Installing collected packages: pulp\n",
            "Successfully installed pulp-2.9.0\n",
            "Note: you may need to restart the kernel to use updated packages.\n"
          ]
        }
      ],
      "source": [
        "pip install pulp"
      ]
    },
    {
      "cell_type": "code",
      "execution_count": null,
      "id": "de9da26f",
      "metadata": {
        "id": "de9da26f",
        "outputId": "2d372669-450a-4dc7-edb2-2e9dc7ed7c2a"
      },
      "outputs": [
        {
          "name": "stdout",
          "output_type": "stream",
          "text": [
            "Optimized Layout:\n",
            "Section A: Product 1 = 40.0, Product 2 = 10.0\n",
            "Section B: Product 1 = 40.0, Product 2 = 0.0\n",
            "Section C: Product 1 = 0.0, Product 2 = 0.0\n",
            "Total Minimum Distance: 1300.0\n"
          ]
        }
      ],
      "source": [
        "from pulp import LpMinimize, LpProblem, LpVariable, lpSum\n",
        "\n",
        "# Define problem\n",
        "problem = LpProblem(\"Warehouse_Layout_Optimization\", LpMinimize)\n",
        "\n",
        "# Define decision variables\n",
        "x = LpVariable.dicts(\"Product1_Section\", ['A', 'B', 'C'], lowBound=0, cat='Integer')\n",
        "y = LpVariable.dicts(\"Product2_Section\", ['A', 'B', 'C'], lowBound=0, cat='Integer')\n",
        "\n",
        "# Distances from entrance to each section\n",
        "distances = {'A': 10, 'B': 20, 'C': 30}\n",
        "\n",
        "# Objective: Minimize total distance traveled\n",
        "problem += lpSum([distances[section] * (x[section] + y[section]) for section in distances])\n",
        "\n",
        "# Constraints\n",
        "# Demand constraints\n",
        "problem += lpSum([x[section] for section in distances]) == 80, \"Product1_Demand\"\n",
        "problem += lpSum([y[section] for section in distances]) == 10, \"Product2_Demand\"\n",
        "\n",
        "# Capacity constraints\n",
        "problem += x['A'] + y['A'] <= 50, \"Capacity_Section_A\"\n",
        "problem += x['B'] + y['B'] <= 60, \"Capacity_Section_B\"\n",
        "problem += x['C'] + y['C'] <= 70, \"Capacity_Section_C\"\n",
        "\n",
        "# Solve the problem\n",
        "problem.solve()\n",
        "\n",
        "# Output results\n",
        "print(\"Optimized Layout:\")\n",
        "for section in distances:\n",
        "    print(f\"Section {section}: Product 1 = {x[section].varValue}, Product 2 = {y[section].varValue}\")\n",
        "\n",
        "print(f\"Total Minimum Distance: {problem.objective.value()}\")\n",
        "\n"
      ]
    },
    {
      "cell_type": "markdown",
      "id": "649d064c",
      "metadata": {
        "id": "649d064c"
      },
      "source": [
        "Problem Statement: Order Picking Optimization\n",
        "\n",
        "You are tasked with optimizing the order picking process in a warehouse. The warehouse has multiple locations, and each order requires a specific number of items to be picked from these locations. The goal is to minimize the total distance traveled while fulfilling all order requirements.\n",
        "\n",
        "Details:\n",
        "\n",
        "Locations and Distances:\n",
        "The warehouse has three locations: L1, L2, and L3.\n",
        "\n",
        "The distances between these locations are given as follows:\n",
        "L1 to L2: 5 units\n",
        "L1 to L3: 10 units\n",
        "L2 to L3: 3 units\n",
        "\n",
        "Orders:\n",
        "There are two orders with specific item requirements from each location:\n",
        "Order1: 10 items from L1, 20 items from L2, and 5 items from L3.\n",
        "Order2: 15 items from L1, 5 items from L2, and 10 items from L3.\n",
        "\n",
        "Objective:\n",
        "Minimize the total distance traveled to pick all items required for the orders.\n",
        "\n",
        "Constraints:\n",
        "Each order’s item requirements must be fully met.\n",
        "The distance traveled between locations is symmetric (i.e., the distance from L1 to L2 is the same as from L2 to L1).\n",
        "Output:\n",
        "\n",
        "An optimized picking plan that specifies the number of items to pick from each location for each order.\n",
        "The total minimum distance traveled."
      ]
    },
    {
      "cell_type": "code",
      "execution_count": null,
      "id": "b0f485bb",
      "metadata": {
        "id": "b0f485bb",
        "outputId": "59550931-3688-4340-b490-482d9611281a"
      },
      "outputs": [
        {
          "name": "stdout",
          "output_type": "stream",
          "text": [
            "{('Order1', 'L1'): Pick_('Order1',_'L1'), ('Order1', 'L2'): Pick_('Order1',_'L2'), ('Order1', 'L3'): Pick_('Order1',_'L3'), ('Order2', 'L1'): Pick_('Order2',_'L1'), ('Order2', 'L2'): Pick_('Order2',_'L2'), ('Order2', 'L3'): Pick_('Order2',_'L3')}\n",
            "Optimized Picking Plan:\n",
            "Order1, Location L1: Pick 10.0 items\n",
            "Order1, Location L2: Pick 20.0 items\n",
            "Order1, Location L3: Pick 5.0 items\n",
            "Order2, Location L1: Pick 15.0 items\n",
            "Order2, Location L2: Pick 5.0 items\n",
            "Order2, Location L3: Pick 10.0 items\n",
            "Total Minimum Distance: 1540.0\n"
          ]
        }
      ],
      "source": [
        "# For order picking\n",
        "\n",
        "from pulp import LpMinimize, LpProblem, LpVariable, lpSum\n",
        "\n",
        "# Distances between locations (symmetric matrix)\n",
        "distances = {\n",
        "    ('L1', 'L2'): 5,\n",
        "    ('L1', 'L3'): 10,\n",
        "    ('L2', 'L3'): 3,\n",
        "    ('L2', 'L1'): 5,\n",
        "    ('L3', 'L1'): 10,\n",
        "    ('L3', 'L2'): 3,\n",
        "}\n",
        "\n",
        "# Order requirements\n",
        "orders = {\n",
        "    'Order1': {'L1': 10, 'L2': 20, 'L3': 5},\n",
        "    'Order2': {'L1': 15, 'L2': 5, 'L3': 10},\n",
        "}\n",
        "\n",
        "# Create a linear programming problem\n",
        "problem = LpProblem(\"Order_Picking_Optimization\", LpMinimize)\n",
        "\n",
        "# Decision variables\n",
        "x = LpVariable.dicts(\"Pick\", [(order, loc) for order in orders for loc in orders[order]], lowBound=0, cat='Integer')\n",
        "print(x)\n",
        "\n",
        "# Objective function: Minimize total distance traveled\n",
        "problem += lpSum(distances[(loc1, loc2)] * (x[order, loc1] + x[order, loc2])\n",
        "                 for order in orders for loc1 in orders[order] for loc2 in orders[order] if loc1 != loc2)\n",
        "\n",
        "# Constraints: Fulfill each order's requirement\n",
        "for order in orders:\n",
        "    for loc in orders[order]:\n",
        "        problem += x[(order, loc)] == orders[order][loc], f\"Fulfill_{order}_{loc}\"\n",
        "\n",
        "# Solve the problem\n",
        "problem.solve()\n",
        "\n",
        "# Output results\n",
        "print(\"Optimized Picking Plan:\")\n",
        "for order in orders:\n",
        "    for loc in orders[order]:\n",
        "        print(f\"{order}, Location {loc}: Pick {x[(order, loc)].varValue} items\")\n",
        "\n",
        "print(f\"Total Minimum Distance: {problem.objective.value()}\")\n"
      ]
    },
    {
      "cell_type": "markdown",
      "id": "2449f972",
      "metadata": {
        "id": "2449f972"
      },
      "source": [
        "Problem Statement: Space Optimization in a Warehouse\n",
        "\n",
        "You are tasked with optimizing the allocation of products in a warehouse to maximize the total priority score, given the space constraints of different sections within the warehouse.\n",
        "\n",
        "The priority score is a measure of the importance or value of storing a particular product in the warehouse. Each product has a specific priority score per unit, which reflects its relative importance compared to other products.\n",
        "\n",
        "Warehouse Sections\n",
        "The warehouse is divided into three sections, each with a specific capacity:\n",
        "\n",
        "Section S1: 100 units of space\n",
        "Section S2: 150 units of space\n",
        "Section S3: 200 units of space\n",
        "Products\n",
        "There are three types of products, each with a space requirement per unit and a priority score:\n",
        "\n",
        "Product P1: Requires 2 units of space per unit, with a priority score of 10\n",
        "Product P2: Requires 3 units of space per unit, with a priority score of 20\n",
        "Product P3: Requires 1 unit of space per unit, with a priority score of 5\n",
        "Objective\n",
        "The objective is to determine the number of units of each product to store in each section such that the total priority score is maximized, while ensuring that the total space used in each section does not exceed its capacity.\n",
        "\n",
        "Constraints\n",
        "The total space used in each section must not exceed the section’s capacity.\n",
        "The number of units of each product stored in each section must be a non-negative integer."
      ]
    },
    {
      "cell_type": "code",
      "execution_count": null,
      "id": "55e04654",
      "metadata": {
        "id": "55e04654",
        "outputId": "68873d0c-f0c9-497d-dde6-b8e5aa16b1df"
      },
      "outputs": [
        {
          "name": "stdout",
          "output_type": "stream",
          "text": [
            "{('P1', 'S1'): Units_('P1',_'S1'), ('P1', 'S2'): Units_('P1',_'S2'), ('P1', 'S3'): Units_('P1',_'S3'), ('P2', 'S1'): Units_('P2',_'S1'), ('P2', 'S2'): Units_('P2',_'S2'), ('P2', 'S3'): Units_('P2',_'S3'), ('P3', 'S1'): Units_('P3',_'S1'), ('P3', 'S2'): Units_('P3',_'S2'), ('P3', 'S3'): Units_('P3',_'S3')}\n",
            "Optimized Space Allocation:\n",
            "Section S1:\n",
            "  Product P1: 0.0 units\n",
            "  Product P2: 33.0 units\n",
            "  Product P3: 1.0 units\n",
            "Section S2:\n",
            "  Product P1: 0.0 units\n",
            "  Product P2: 50.0 units\n",
            "  Product P3: 0.0 units\n",
            "Section S3:\n",
            "  Product P1: 1.0 units\n",
            "  Product P2: 66.0 units\n",
            "  Product P3: 0.0 units\n",
            "Total Maximum Priority Score: 2995.0\n"
          ]
        }
      ],
      "source": [
        "#For space Optimization\n",
        "from pulp import LpMaximize, LpProblem, LpVariable, lpSum\n",
        "\n",
        "# Define warehouse sections with their capacities\n",
        "sections = {\n",
        "    'S1': 100,\n",
        "    'S2': 150,\n",
        "    'S3': 200\n",
        "}\n",
        "\n",
        "# Define products with space requirements per unit and priority scores\n",
        "products = {\n",
        "    'P1': {'space': 2, 'priority': 10},\n",
        "    'P2': {'space': 3, 'priority': 20},\n",
        "    'P3': {'space': 1, 'priority': 5}\n",
        "}\n",
        "\n",
        "# Create a linear programming problem\n",
        "problem = LpProblem(\"Space_Optimization\", LpMaximize)\n",
        "\n",
        "# Decision variables: Number of units of each product in each section\n",
        "x = LpVariable.dicts(\"Units\", [(prod, sec) for prod in products for sec in sections], lowBound=0, cat='Integer')\n",
        "print(x)\n",
        "# Objective function: Maximize total priority score\n",
        "problem += lpSum(products[prod]['priority'] * x[(prod, sec)] for prod in products for sec in sections)\n",
        "\n",
        "# Constraints: Ensure the total space used in each section does not exceed its capacity\n",
        "for sec in sections:\n",
        "    problem += lpSum(products[prod]['space'] * x[(prod, sec)] for prod in products) <= sections[sec], f\"Capacity_{sec}\"\n",
        "\n",
        "# Solve the problem\n",
        "problem.solve()\n",
        "\n",
        "# Output results\n",
        "print(\"Optimized Space Allocation:\")\n",
        "for sec in sections:\n",
        "    print(f\"Section {sec}:\")\n",
        "    for prod in products:\n",
        "        print(f\"  Product {prod}: {x[(prod, sec)].varValue} units\")\n",
        "\n",
        "print(f\"Total Maximum Priority Score: {problem.objective.value()}\")\n",
        "\n",
        "\n"
      ]
    },
    {
      "cell_type": "code",
      "execution_count": null,
      "id": "af60aa12",
      "metadata": {
        "id": "af60aa12",
        "outputId": "76b08239-1ffe-42b3-eba5-f34e5991593d"
      },
      "outputs": [
        {
          "name": "stdout",
          "output_type": "stream",
          "text": [
            "Optimized Staff Scheduling:\n",
            "Monday: 3.0 staff members scheduled\n",
            "Tuesday: 3.0 staff members scheduled\n",
            "Wednesday: 3.0 staff members scheduled\n",
            "Thursday: 3.0 staff members scheduled\n",
            "Friday: 5.0 staff members scheduled\n",
            "Saturday: 5.0 staff members scheduled\n",
            "Sunday: 4.0 staff members scheduled\n",
            "Total Minimum Cost: 3200.0\n"
          ]
        }
      ],
      "source": [
        "#For Staff Optimization\n",
        "\n",
        "from pulp import LpMinimize, LpProblem, LpVariable, lpSum\n",
        "\n",
        "# Define the days of the week\n",
        "days = ['Monday', 'Tuesday', 'Wednesday', 'Thursday', 'Friday', 'Saturday', 'Sunday']\n",
        "\n",
        "# Define the number of staff required each day\n",
        "staff_requirements = {\n",
        "    'Monday': 3,\n",
        "    'Tuesday': 3,\n",
        "    'Wednesday': 3,\n",
        "    'Thursday': 3,\n",
        "    'Friday': 5,\n",
        "    'Saturday': 5,\n",
        "    'Sunday': 4\n",
        "}\n",
        "\n",
        "# Define the cost of scheduling each staff member for each day\n",
        "staff_costs = {\n",
        "    'Monday': 100,\n",
        "    'Tuesday': 100,\n",
        "    'Wednesday': 100,\n",
        "    'Thursday': 100,\n",
        "    'Friday': 150,\n",
        "    'Saturday': 150,\n",
        "    'Sunday': 125\n",
        "}\n",
        "\n",
        "# Create a linear programming problem\n",
        "problem = LpProblem(\"Staff_Scheduling\", LpMinimize)\n",
        "\n",
        "# Decision variables: Number of staff scheduled for each day\n",
        "x = LpVariable.dicts(\"Staff\", days, lowBound=0, cat='Integer')\n",
        "\n",
        "# Objective function: Minimize total staffing cost\n",
        "problem += lpSum(staff_costs[day] * x[day] for day in days)\n",
        "\n",
        "# Constraints: Ensure the staff requirements for each day are met\n",
        "for day in days:\n",
        "    problem += x[day] >= staff_requirements[day], f\"Requirement_{day}\"\n",
        "\n",
        "# Solve the problem\n",
        "problem.solve()\n",
        "\n",
        "# Output results\n",
        "print(\"Optimized Staff Scheduling:\")\n",
        "for day in days:\n",
        "    print(f\"{day}: {x[day].varValue} staff members scheduled\")\n",
        "\n",
        "print(f\"Total Minimum Cost: {problem.objective.value()}\")\n"
      ]
    },
    {
      "cell_type": "markdown",
      "id": "c9d5d313",
      "metadata": {
        "id": "c9d5d313"
      },
      "source": [
        "In terms of list"
      ]
    },
    {
      "cell_type": "code",
      "execution_count": null,
      "id": "971e2f73",
      "metadata": {
        "id": "971e2f73",
        "outputId": "d163e8aa-6667-4e59-e251-75d38b77ce2b"
      },
      "outputs": [
        {
          "name": "stdout",
          "output_type": "stream",
          "text": [
            "Optimized Staff Scheduling:\n",
            "Monday: 3.0 staff members scheduled\n",
            "Tuesday: 3.0 staff members scheduled\n",
            "Wednesday: 3.0 staff members scheduled\n",
            "Thursday: 3.0 staff members scheduled\n",
            "Friday: 5.0 staff members scheduled\n",
            "Saturday: 5.0 staff members scheduled\n",
            "Sunday: 4.0 staff members scheduled\n",
            "Total Minimum Cost: 3200.0\n"
          ]
        }
      ],
      "source": [
        "from pulp import LpMinimize, LpProblem, LpVariable, lpSum\n",
        "\n",
        "# Define the days of the week and their respective staff requirements and costs\n",
        "days = ['Monday', 'Tuesday', 'Wednesday', 'Thursday', 'Friday', 'Saturday', 'Sunday']\n",
        "staff_requirements = [3, 3, 3, 3, 5, 5, 4]\n",
        "staff_costs = [100, 100, 100, 100, 150, 150, 125]\n",
        "\n",
        "# Create a linear programming problem\n",
        "problem = LpProblem(\"Staff_Scheduling\", LpMinimize)\n",
        "\n",
        "# Decision variables: Number of staff scheduled for each day\n",
        "x = LpVariable.dicts(\"Staff\", days, lowBound=0, cat='Integer')\n",
        "\n",
        "# Objective function: Minimize total staffing cost\n",
        "problem += lpSum(staff_costs[i] * x[days[i]] for i in range(len(days)))\n",
        "\n",
        "# Constraints: Ensure the staff requirements for each day are met\n",
        "for i in range(len(days)):\n",
        "    problem += x[days[i]] >= staff_requirements[i], f\"Requirement_{days[i]}\"\n",
        "\n",
        "# Solve the problem\n",
        "problem.solve()\n",
        "\n",
        "# Output results\n",
        "print(\"Optimized Staff Scheduling:\")\n",
        "for day in days:\n",
        "    print(f\"{day}: {x[day].varValue} staff members scheduled\")\n",
        "\n",
        "print(f\"Total Minimum Cost: {problem.objective.value()}\")\n"
      ]
    },
    {
      "cell_type": "markdown",
      "id": "6bd738ff",
      "metadata": {
        "id": "6bd738ff"
      },
      "source": [
        "without staff requirement"
      ]
    },
    {
      "cell_type": "code",
      "execution_count": null,
      "id": "2981f262",
      "metadata": {
        "id": "2981f262",
        "outputId": "54b6b232-69cf-4077-fc09-d8252967bbf3"
      },
      "outputs": [
        {
          "name": "stdout",
          "output_type": "stream",
          "text": [
            "Optimized Staff Scheduling:\n",
            "Monday: 0.0 staff members scheduled\n",
            "Tuesday: 0.0 staff members scheduled\n",
            "Wednesday: 0.0 staff members scheduled\n",
            "Thursday: 0.0 staff members scheduled\n",
            "Friday: 0.0 staff members scheduled\n",
            "Saturday: 0.0 staff members scheduled\n",
            "Sunday: 0.0 staff members scheduled\n",
            "Total Minimum Cost: 0.0\n"
          ]
        }
      ],
      "source": [
        "from pulp import LpMinimize, LpProblem, LpVariable, lpSum\n",
        "\n",
        "# Define the days of the week and their respective costs\n",
        "days = ['Monday', 'Tuesday', 'Wednesday', 'Thursday', 'Friday', 'Saturday', 'Sunday']\n",
        "staff_costs = [100, 100, 100, 100, 150, 150, 125]\n",
        "\n",
        "# Create a linear programming problem\n",
        "problem = LpProblem(\"Staff_Scheduling\", LpMinimize)\n",
        "\n",
        "# Decision variables: Number of staff scheduled for each day\n",
        "x = LpVariable.dicts(\"Staff\", days, lowBound=0, cat='Integer')\n",
        "\n",
        "# Objective function: Minimize total staffing cost\n",
        "problem += lpSum(staff_costs[i] * x[days[i]] for i in range(len(days)))\n",
        "\n",
        "# Solve the problem\n",
        "problem.solve()\n",
        "\n",
        "# Output results\n",
        "print(\"Optimized Staff Scheduling:\")\n",
        "for day in days:\n",
        "    print(f\"{day}: {x[day].varValue} staff members scheduled\")\n",
        "\n",
        "print(f\"Total Minimum Cost: {problem.objective.value()}\")\n"
      ]
    },
    {
      "cell_type": "markdown",
      "id": "5a0621b8",
      "metadata": {
        "id": "5a0621b8"
      },
      "source": [
        "with rules like 2 days off & optimize the price"
      ]
    },
    {
      "cell_type": "code",
      "execution_count": null,
      "id": "74eef4b9",
      "metadata": {
        "id": "74eef4b9",
        "outputId": "e76d5c64-b6d4-4567-dee6-9fe44deb8fa1"
      },
      "outputs": [
        {
          "name": "stdout",
          "output_type": "stream",
          "text": [
            "Optimized Employee Scheduling:\n",
            "Employee E1:\n",
            "  Works on Monday\n",
            "  Works on Tuesday\n",
            "  Works on Wednesday\n",
            "  Works on Thursday\n",
            "  Off on Friday\n",
            "  Off on Saturday\n",
            "  Works on Sunday\n",
            "Employee E2:\n",
            "  Off on Monday\n",
            "  Works on Tuesday\n",
            "  Works on Wednesday\n",
            "  Works on Thursday\n",
            "  Works on Friday\n",
            "  Works on Saturday\n",
            "  Off on Sunday\n",
            "Employee E3:\n",
            "  Works on Monday\n",
            "  Off on Tuesday\n",
            "  Works on Wednesday\n",
            "  Works on Thursday\n",
            "  Works on Friday\n",
            "  Works on Saturday\n",
            "  Off on Sunday\n",
            "Employee E4:\n",
            "  Off on Monday\n",
            "  Off on Tuesday\n",
            "  Works on Wednesday\n",
            "  Works on Thursday\n",
            "  Works on Friday\n",
            "  Works on Saturday\n",
            "  Works on Sunday\n",
            "Employee E5:\n",
            "  Works on Monday\n",
            "  Works on Tuesday\n",
            "  Works on Wednesday\n",
            "  Off on Thursday\n",
            "  Off on Friday\n",
            "  Works on Saturday\n",
            "  Works on Sunday\n",
            "Total Minimum Cost: 2750.0\n"
          ]
        }
      ],
      "source": [
        "from pulp import LpMinimize, LpProblem, LpVariable, lpSum\n",
        "\n",
        "# Define the days of the week\n",
        "days = ['Monday', 'Tuesday', 'Wednesday', 'Thursday', 'Friday', 'Saturday', 'Sunday']\n",
        "\n",
        "# Define the costs for each employee\n",
        "employee_costs = {\n",
        "    'E1': 100,\n",
        "    'E2': 120,\n",
        "    'E3': 110,\n",
        "    'E4': 130,\n",
        "    'E5': 90\n",
        "}\n",
        "\n",
        "# Create a linear programming problem\n",
        "problem = LpProblem(\"Employee_Scheduling\", LpMinimize)\n",
        "\n",
        "# Decision variables: 1 if employee works on a given day, 0 otherwise\n",
        "x = LpVariable.dicts(\"Work\", [(emp, day) for emp in employee_costs for day in days], cat='Binary')\n",
        "\n",
        "# Objective function: Minimize total staffing cost\n",
        "problem += lpSum(employee_costs[emp] * x[(emp, day)] for emp in employee_costs for day in days)\n",
        "\n",
        "# Constraints: Each employee must work exactly 5 days\n",
        "for emp in employee_costs:\n",
        "    problem += lpSum(x[(emp, day)] for day in days) == 5, f\"Workdays_{emp}\"\n",
        "\n",
        "# Constraints: Each day must have at least one employee working\n",
        "for day in days:\n",
        "    problem += lpSum(x[(emp, day)] for emp in employee_costs) >= 1, f\"Staffing_{day}\"\n",
        "\n",
        "# Solve the problem\n",
        "problem.solve()\n",
        "\n",
        "# Output results\n",
        "print(\"Optimized Employee Scheduling:\")\n",
        "for emp in employee_costs:\n",
        "    print(f\"Employee {emp}:\")\n",
        "    for day in days:\n",
        "        if x[(emp, day)].varValue == 1:\n",
        "            print(f\"  Works on {day}\")\n",
        "        else:\n",
        "            print(f\"  Off on {day}\")\n",
        "\n",
        "print(f\"Total Minimum Cost: {problem.objective.value()}\")\n"
      ]
    },
    {
      "cell_type": "markdown",
      "id": "aefe7900",
      "metadata": {
        "id": "aefe7900"
      },
      "source": [
        "Problem Statement: slot Optimization\n",
        "    \n",
        "You are tasked with optimizing the placement of products in warehouse slots to minimize the total weighted distance from the picking point. The goal is to ensure that each product is placed in exactly one slot while minimizing the overall distance weighted by the product’s access frequency. Here are the details:\n",
        "\n",
        "Slots and Distances:\n",
        "Slot S1: 10 units from the picking point\n",
        "Slot S2: 20 units from the picking point\n",
        "Slot S3: 30 units from the picking point\n",
        "    \n",
        "Products and Access Frequencies:\n",
        "Product P1: Access frequency of 100\n",
        "Product P2: Access frequency of 200\n",
        "Product P3: Access frequency of 150\n",
        "    \n",
        "Objectives\n",
        "Minimize Total Weighted Distance: The total distance from the picking point to the slots, weighted by the access frequency of each product, should be minimized.\n"
      ]
    },
    {
      "cell_type": "code",
      "execution_count": null,
      "id": "01e4f62e",
      "metadata": {
        "id": "01e4f62e",
        "outputId": "b7ac5b51-e84a-4f8b-cce7-a1879af6aaa0"
      },
      "outputs": [
        {
          "name": "stdout",
          "output_type": "stream",
          "text": [
            "Optimized Slotting:\n",
            "Product P1 placed in Slot S1\n",
            "Product P2 placed in Slot S1\n",
            "Product P3 placed in Slot S1\n",
            "Total Minimum Weighted Distance: 4500.0\n"
          ]
        }
      ],
      "source": [
        "#For slotting\n",
        "from pulp import LpMinimize, LpProblem, LpVariable, lpSum\n",
        "\n",
        "# Define slots with their distances from the picking point\n",
        "slots = {\n",
        "    'S1': 10,\n",
        "    'S2': 20,\n",
        "    'S3': 30\n",
        "}\n",
        "\n",
        "# Define products with their access frequencies\n",
        "products = {\n",
        "    'P1': 100,\n",
        "    'P2': 200,\n",
        "    'P3': 150\n",
        "}\n",
        "\n",
        "# Create a linear programming problem\n",
        "problem = LpProblem(\"Slotting_Optimization\", LpMinimize)\n",
        "\n",
        "# Decision variables: 1 if product p is placed in slot s, 0 otherwise\n",
        "x = LpVariable.dicts(\"Placement\", [(p, s) for p in products for s in slots], cat='Binary')\n",
        "\n",
        "# Objective function: Minimize total weighted distance\n",
        "problem += lpSum(slots[s] * products[p] * x[(p, s)] for p in products for s in slots)\n",
        "\n",
        "# Constraints: Each product must be placed in exactly one slot\n",
        "for p in products:\n",
        "    problem += lpSum(x[(p, s)] for s in slots) == 1, f\"One_Slot_{p}\"\n",
        "\n",
        "# Solve the problem\n",
        "problem.solve()\n",
        "\n",
        "# Output results\n",
        "print(\"Optimized Slotting:\")\n",
        "for p in products:\n",
        "    for s in slots:\n",
        "        if x[(p, s)].varValue == 1:\n",
        "            print(f\"Product {p} placed in Slot {s}\")\n",
        "\n",
        "print(f\"Total Minimum Weighted Distance: {problem.objective.value()}\")\n",
        "\n"
      ]
    },
    {
      "cell_type": "code",
      "execution_count": null,
      "id": "91d6480a",
      "metadata": {
        "id": "91d6480a"
      },
      "outputs": [],
      "source": [
        "# Additional Constraint: Each slot must have at least one product"
      ]
    },
    {
      "cell_type": "code",
      "execution_count": null,
      "id": "68dccb18",
      "metadata": {
        "id": "68dccb18",
        "outputId": "656d1aa6-ef46-4073-adaf-1decdd75628d"
      },
      "outputs": [
        {
          "name": "stdout",
          "output_type": "stream",
          "text": [
            "Optimized Slotting:\n",
            "Product P1 placed in Slot S3\n",
            "Product P2 placed in Slot S1\n",
            "Product P3 placed in Slot S2\n",
            "Total Minimum Weighted Distance: 8000.0\n"
          ]
        }
      ],
      "source": [
        "from pulp import LpMinimize, LpProblem, LpVariable, lpSum\n",
        "\n",
        "# Define slots with their distances from the picking point\n",
        "slots = {\n",
        "    'S1': 10,\n",
        "    'S2': 20,\n",
        "    'S3': 30\n",
        "}\n",
        "\n",
        "# Define products with their access frequencies\n",
        "products = {\n",
        "    'P1': 100,\n",
        "    'P2': 200,\n",
        "    'P3': 150\n",
        "}\n",
        "\n",
        "# Create a linear programming problem\n",
        "problem = LpProblem(\"Slotting_Optimization\", LpMinimize)\n",
        "\n",
        "# Decision variables: 1 if product p is placed in slot s, 0 otherwise\n",
        "x = LpVariable.dicts(\"Placement\", [(p, s) for p in products for s in slots], cat='Binary')\n",
        "\n",
        "# Objective function: Minimize total weighted distance\n",
        "problem += lpSum(slots[s] * products[p] * x[(p, s)] for p in products for s in slots)\n",
        "\n",
        "# Constraints: Each product must be placed in exactly one slot\n",
        "for p in products:\n",
        "    problem += lpSum(x[(p, s)] for s in slots) == 1, f\"One_Slot_{p}\"\n",
        "\n",
        "# Additional Constraint: Each slot must have at least one product\n",
        "for s in slots:\n",
        "    problem += lpSum(x[(p, s)] for p in products) >= 1, f\"Non_Empty_Slot_{s}\"\n",
        "\n",
        "# Solve the problem\n",
        "problem.solve()\n",
        "\n",
        "# Output results\n",
        "print(\"Optimized Slotting:\")\n",
        "for p in products:\n",
        "    for s in slots:\n",
        "        if x[(p, s)].varValue == 1:\n",
        "            print(f\"Product {p} placed in Slot {s}\")\n",
        "\n",
        "print(f\"Total Minimum Weighted Distance: {problem.objective.value()}\")\n"
      ]
    },
    {
      "cell_type": "markdown",
      "id": "a765185f",
      "metadata": {
        "id": "a765185f"
      },
      "source": [
        "# Inventory replenishment Optimization"
      ]
    },
    {
      "cell_type": "markdown",
      "id": "6bb67f71",
      "metadata": {
        "id": "6bb67f71"
      },
      "source": [
        "You are tasked with optimizing the inventory replenishment for a set of products to minimize the total cost, which includes both ordering and holding costs. The goal is to determine the optimal order quantities for each product while ensuring that the order quantities meet the demand and do not exceed the storage capacity.\n",
        "\n",
        "Products and Their Attributes:\n",
        "Product P1:\n",
        "Demand: 210 units\n",
        "Order Cost: ₹50 per unit\n",
        "Holding Cost: ₹1 per unit\n",
        "Capacity: 200 units\n",
        "    \n",
        "Product P2:\n",
        "Demand: 150 units\n",
        "Order Cost: ₹60 per unit\n",
        "Holding Cost: ₹2 per unit\n",
        "Capacity: 250 units\n",
        "    \n",
        "Product P3:\n",
        "Demand: 400 units\n",
        "Order Cost: ₹55 per unit\n",
        "Holding Cost: ₹1.5 per unit\n",
        "Capacity: 300 units\n",
        "    \n",
        "Objectives\n",
        "Minimize Total Cost: The total cost is the sum of ordering costs and holding costs for all products.\n",
        "    \n",
        "Constraints:\n",
        "The order quantity for each product must not exceed its capacity.\n",
        "The order quantity for each product must meet or exceed its demand."
      ]
    },
    {
      "cell_type": "code",
      "execution_count": null,
      "id": "0be3ea69",
      "metadata": {
        "id": "0be3ea69",
        "outputId": "83490ca0-0b3c-4980-c5f8-13bfa14103a8"
      },
      "outputs": [
        {
          "name": "stdout",
          "output_type": "stream",
          "text": [
            "Optimized Inventory Replenishment:\n",
            "Product P1: Order Quantity = 210.0\n",
            "Product P2: Order Quantity = 150.0\n",
            "Product P3: Order Quantity = 400.0\n",
            "Total Minimum Cost: 41500.0\n"
          ]
        }
      ],
      "source": [
        "#For inventory replenishment\n",
        "from pulp import LpMinimize, LpProblem, LpVariable, lpSum\n",
        "\n",
        "# Define products with their demand, order costs, holding costs, and order capacities\n",
        "products = {\n",
        "    'P1': {'demand': 210, 'order_cost': 50, 'holding_cost': 1, 'capacity': 200},\n",
        "    'P2': {'demand': 150, 'order_cost': 60, 'holding_cost': 2, 'capacity': 250},\n",
        "    'P3': {'demand': 400, 'order_cost': 55, 'holding_cost': 1.5, 'capacity': 300}\n",
        "}\n",
        "\n",
        "# Create a linear programming problem\n",
        "problem = LpProblem(\"Inventory_Replenishment\", LpMinimize)\n",
        "\n",
        "# Decision variables: Order quantities for each product\n",
        "order_quantities = LpVariable.dicts(\"OrderQty\", products.keys(), lowBound=0, cat='Continuous')\n",
        "\n",
        "# Objective function: Minimize total cost (ordering + holding)\n",
        "problem += lpSum(\n",
        "    products[p]['order_cost'] * order_quantities[p] +\n",
        "    products[p]['holding_cost'] * (order_quantities[p] - products[p]['demand'])\n",
        "    for p in products\n",
        ")\n",
        "\n",
        "# Constraints: Ensure order quantities do not exceed capacity and meet demand\n",
        "for p in products:\n",
        "    problem += order_quantities[p] <= products[p]['capacity'], f\"Capacity_{p}\"\n",
        "    problem += order_quantities[p] >= products[p]['demand'], f\"Demand_{p}\"\n",
        "\n",
        "# Solve the problem\n",
        "problem.solve()\n",
        "\n",
        "# Output results\n",
        "print(\"Optimized Inventory Replenishment:\")\n",
        "for p in products:\n",
        "    print(f\"Product {p}: Order Quantity = {order_quantities[p].varValue}\")\n",
        "\n",
        "print(f\"Total Minimum Cost: {problem.objective.value()}\")\n"
      ]
    },
    {
      "cell_type": "code",
      "execution_count": null,
      "id": "02499964",
      "metadata": {
        "id": "02499964",
        "outputId": "0a0a8ad8-5e71-427f-b633-8c0e4785f3b4"
      },
      "outputs": [
        {
          "name": "stdout",
          "output_type": "stream",
          "text": [
            "Optimized Production Plan:\n",
            "Product P1: Production Quantity = 100.0\n",
            "Product P2: Production Quantity = 150.0\n",
            "Total Minimum Cost: 1550.0\n"
          ]
        }
      ],
      "source": [
        "from pulp import LpMinimize, LpProblem, LpVariable, lpSum\n",
        "\n",
        "# Define products with their demand and production costs\n",
        "products = {\n",
        "    'P1': {'demand': 100, 'production_cost': 5},\n",
        "    'P2': {'demand': 150, 'production_cost': 7}\n",
        "}\n",
        "\n",
        "# Define production capacity per period\n",
        "production_capacity = 200\n",
        "\n",
        "# Create a linear programming problem\n",
        "problem = LpProblem(\"Simple_Production_Planning\", LpMinimize)\n",
        "\n",
        "# Decision variables: Production quantity for each product\n",
        "production_qty = LpVariable.dicts(\"Production\", products.keys(), lowBound=0, cat='Continuous')\n",
        "\n",
        "# Objective function: Minimize total production costs\n",
        "problem += lpSum(products[p]['production_cost'] * production_qty[p] for p in products)\n",
        "\n",
        "# Constraints: Ensure production meets demand\n",
        "for p in products:\n",
        "    problem += production_qty[p] >= products[p]['demand'], f\"Demand_{p}\"\n",
        "\n",
        "# Constraints: Ensure production capacity is not exceeded\n",
        "problem += lpSum(production_qty[p] for p in products) <= production_capacity, \"Capacity\"\n",
        "\n",
        "# Solve the problem\n",
        "problem.solve()\n",
        "\n",
        "# Output results\n",
        "print(\"Optimized Production Plan:\")\n",
        "for p in products:\n",
        "    print(f\"Product {p}: Production Quantity = {production_qty[p].varValue}\")\n",
        "\n",
        "print(f\"Total Minimum Cost: {problem.objective.value()}\")\n"
      ]
    },
    {
      "cell_type": "code",
      "execution_count": null,
      "id": "bf76b8bc",
      "metadata": {
        "id": "bf76b8bc",
        "outputId": "58e3f37d-f80c-45a4-f24d-9e3237b7a01b"
      },
      "outputs": [
        {
          "name": "stdout",
          "output_type": "stream",
          "text": [
            "Optimized Production Plan to achieve a total cost of 3000:\n",
            "Product P1: Production Quantity = 0.0\n",
            "Product P2: Production Quantity = 428.57143\n",
            "Total Production Cost: 3000.00001\n"
          ]
        }
      ],
      "source": [
        "from pulp import LpMinimize, LpProblem, LpVariable, lpSum\n",
        "\n",
        "# Define products with their demand and production costs\n",
        "products = {\n",
        "    'P1': {'demand': 100, 'production_cost': 5},\n",
        "    'P2': {'demand': 150, 'production_cost': 7}\n",
        "}\n",
        "\n",
        "# Define production capacity per period\n",
        "production_capacity = 200\n",
        "\n",
        "# Define the total cost target\n",
        "total_cost_target = 3000\n",
        "\n",
        "# Create a linear programming problem\n",
        "problem = LpProblem(\"Optimized_Production_Planning\", LpMinimize)\n",
        "\n",
        "# Decision variables: Production quantity for each product\n",
        "production_qty = LpVariable.dicts(\"Production\", products.keys(), lowBound=0, cat='Continuous')\n",
        "\n",
        "# Objective function: Minimize the absolute difference from the total cost target\n",
        "problem += lpSum(products[p]['production_cost'] * production_qty[p] for p in products) - total_cost_target\n",
        "\n",
        "# Constraints: Ensure production meets demand\n",
        "for p in products:\n",
        "    problem += production_qty[p] >= products[p]['demand'], f\"Demand_{p}\"\n",
        "\n",
        "# Constraints: Ensure production capacity is not exceeded\n",
        "problem += lpSum(production_qty[p] for p in products) <= production_capacity, \"Capacity\"\n",
        "\n",
        "# Constraints: Ensure total cost is close to the target\n",
        "problem += lpSum(products[p]['production_cost'] * production_qty[p] for p in products) <= total_cost_target, \"Upper_Cost_Limit\"\n",
        "problem += lpSum(products[p]['production_cost'] * production_qty[p] for p in products) >= total_cost_target, \"Lower_Cost_Limit\"\n",
        "\n",
        "# Solve the problem\n",
        "problem.solve()\n",
        "\n",
        "# Output results\n",
        "print(\"Optimized Production Plan to achieve a total cost of 3000:\")\n",
        "for p in products:\n",
        "    print(f\"Product {p}: Production Quantity = {production_qty[p].varValue}\")\n",
        "\n",
        "# Calculate total production cost\n",
        "total_production_cost = sum(products[p]['production_cost'] * production_qty[p].varValue for p in products)\n",
        "\n",
        "print(f\"Total Production Cost: {total_production_cost}\")\n"
      ]
    },
    {
      "cell_type": "code",
      "execution_count": null,
      "id": "d9de3379",
      "metadata": {
        "id": "d9de3379",
        "outputId": "ec23e8ef-86dc-4099-ce85-5d9a69ab113a"
      },
      "outputs": [
        {
          "name": "stdout",
          "output_type": "stream",
          "text": [
            "Optimized Production Plan to achieve a total cost of 3000:\n",
            "Product P1: Total Production Quantity = 390.0\n",
            "Product P2: Total Production Quantity = 150.0\n",
            "Total Production Cost: 3000.0\n"
          ]
        }
      ],
      "source": [
        "from pulp import LpMinimize, LpProblem, LpVariable, lpSum\n",
        "\n",
        "# Define products with their demand and production costs\n",
        "products = {\n",
        "    'P1': {'demand': 100, 'production_cost': 5},\n",
        "    'P2': {'demand': 150, 'production_cost': 7}\n",
        "}\n",
        "\n",
        "# Define the total cost target\n",
        "total_cost_target = 3000\n",
        "\n",
        "# Calculate the fixed production cost for meeting the demand\n",
        "fixed_production_cost = (products['P1']['demand'] * products['P1']['production_cost'] +\n",
        "                         products['P2']['demand'] * products['P2']['production_cost'])\n",
        "\n",
        "# Remaining budget for additional production\n",
        "remaining_budget = total_cost_target - fixed_production_cost\n",
        "\n",
        "# Create a linear programming problem\n",
        "problem = LpProblem(\"Optimized_Production_Planning\", LpMinimize)\n",
        "\n",
        "# Decision variables: Additional production quantity for each product\n",
        "additional_production_qty = LpVariable.dicts(\"Additional_Production\", products.keys(), lowBound=0, cat='Continuous')\n",
        "\n",
        "# Objective function: Maximize the utilization of the remaining budget\n",
        "problem += -lpSum(products[p]['production_cost'] * additional_production_qty[p] for p in products)\n",
        "\n",
        "# Constraints: Ensure additional production cost does not exceed remaining budget\n",
        "problem += lpSum(products[p]['production_cost'] * additional_production_qty[p] for p in products) <= remaining_budget\n",
        "\n",
        "# Solve the problem\n",
        "problem.solve()\n",
        "\n",
        "# Output results\n",
        "print(\"Optimized Production Plan to achieve a total cost of 3000:\")\n",
        "for p in products:\n",
        "    total_production_qty = products[p]['demand'] + additional_production_qty[p].varValue\n",
        "    print(f\"Product {p}: Total Production Quantity = {total_production_qty}\")\n",
        "\n",
        "# Calculate total production cost\n",
        "total_production_cost = fixed_production_cost + sum(products[p]['production_cost'] * additional_production_qty[p].varValue for p in products)\n",
        "\n",
        "print(f\"Total Production Cost: {total_production_cost}\")\n"
      ]
    },
    {
      "cell_type": "markdown",
      "id": "28203ed5",
      "metadata": {
        "id": "28203ed5"
      },
      "source": [
        "Problem Statement: Material Requirements Planning\n",
        "\n",
        "You are tasked with planning the material requirements for the production of a finished product, P1, over a two-week period. The Bill of Materials (BOM) for P1 specifies the quantities of three components (C1, C2, and C3) required to produce one unit of P1. The production schedule for P1 over the two weeks is given, along with the current inventory levels of the components.\n",
        "\n",
        "Bill of Materials (BOM):\n",
        "\n",
        "C1: 2 units per unit of P1\n",
        "C2: 3 units per unit of P1\n",
        "C3: 1 unit per unit of P1\n",
        "Production Schedule:\n",
        "\n",
        "Week 1: 100 units of P1\n",
        "Week 2: 150 units of P1\n",
        "Current Inventory Levels:\n",
        "\n",
        "C1: 50 units\n",
        "C2: 60 units\n",
        "C3: 30 units\n",
        "Objective: Determine the total quantity of each component (C1, C2, and C3) required to meet the production schedule, considering the current inventory levels.\n",
        "\n",
        "Constraints:\n",
        "\n",
        "The total requirement for each component is based on the production schedule and the BOM.\n",
        "The required quantity of each component must account for the current inventory levels."
      ]
    },
    {
      "cell_type": "code",
      "execution_count": null,
      "id": "8d2b7e87",
      "metadata": {
        "id": "8d2b7e87",
        "outputId": "f464a226-0cfc-4c1f-f4ae-f2b3f1144195"
      },
      "outputs": [
        {
          "name": "stdout",
          "output_type": "stream",
          "text": [
            "Material Requirements Planning:\n",
            "Component C1: Required Quantity = 450.0\n",
            "Component C2: Required Quantity = 690.0\n",
            "Component C3: Required Quantity = 220.0\n",
            "Total Required Materials: 1360.0\n"
          ]
        }
      ],
      "source": [
        "from pulp import LpProblem, LpVariable, lpSum, LpMinimize\n",
        "\n",
        "# Define the Bill of Materials (BOM) for the finished product\n",
        "bom = {\n",
        "    'C1': 2,  # 2 units of C1 required per unit of P1\n",
        "    'C2': 3,  # 3 units of C2 required per unit of P1\n",
        "    'C3': 1   # 1 unit of C3 required per unit of P1\n",
        "}\n",
        "\n",
        "# Define the production schedule\n",
        "production_schedule = {\n",
        "    'Week1': 100,  # 100 units of P1 to be produced\n",
        "    'Week2': 150   # 150 units of P1 to be produced\n",
        "}\n",
        "\n",
        "# Define the current inventory levels\n",
        "inventory_levels = {\n",
        "    'C1': 50,\n",
        "    'C2': 60,\n",
        "    'C3': 30\n",
        "}\n",
        "\n",
        "# Create a linear programming problem\n",
        "problem = LpProblem(\"Material_Requirements_Planning\", LpMinimize)\n",
        "\n",
        "# Decision variables: Amount of each component required\n",
        "required_materials = LpVariable.dicts(\"Required\", bom.keys(), lowBound=0, cat='Continuous')\n",
        "\n",
        "# Objective function: Minimize total required materials (not really meaningful here but included for completeness)\n",
        "problem += lpSum(required_materials[c] for c in bom)\n",
        "\n",
        "# Constraints: Calculate required materials based on production schedule\n",
        "for c in bom:\n",
        "    # Total requirement is based on the production schedule and BOM\n",
        "    total_required = lpSum(production_schedule[w] * bom[c] for w in production_schedule)\n",
        "    problem += required_materials[c] == total_required - inventory_levels[c], f\"Requirement_{c}\"\n",
        "\n",
        "# Solve the problem\n",
        "problem.solve()\n",
        "\n",
        "# Output results\n",
        "print(\"Material Requirements Planning:\")\n",
        "for c in bom:\n",
        "    print(f\"Component {c}: Required Quantity = {required_materials[c].varValue}\")\n",
        "\n",
        "print(f\"Total Required Materials: {problem.objective.value()}\")\n"
      ]
    },
    {
      "cell_type": "code",
      "execution_count": null,
      "id": "58bb1f0b",
      "metadata": {
        "id": "58bb1f0b"
      },
      "outputs": [],
      "source": []
    }
  ],
  "metadata": {
    "kernelspec": {
      "display_name": "Python 3 (ipykernel)",
      "language": "python",
      "name": "python3"
    },
    "language_info": {
      "codemirror_mode": {
        "name": "ipython",
        "version": 3
      },
      "file_extension": ".py",
      "mimetype": "text/x-python",
      "name": "python",
      "nbconvert_exporter": "python",
      "pygments_lexer": "ipython3",
      "version": "3.11.5"
    },
    "colab": {
      "provenance": []
    }
  },
  "nbformat": 4,
  "nbformat_minor": 5
}